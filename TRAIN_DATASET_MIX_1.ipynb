{
  "cells": [
    {
      "cell_type": "markdown",
      "metadata": {
        "id": "view-in-github",
        "colab_type": "text"
      },
      "source": [
        "<a href=\"https://colab.research.google.com/github/JoyKaihatu/DeepLearningFinals/blob/main/TRAIN_DATASET_MIX_1.ipynb\" target=\"_parent\"><img src=\"https://colab.research.google.com/assets/colab-badge.svg\" alt=\"Open In Colab\"/></a>"
      ]
    },
    {
      "cell_type": "code",
      "execution_count": null,
      "metadata": {
        "id": "FkQdse9DfvMe"
      },
      "outputs": [],
      "source": [
        "# !pip install visualkeras"
      ]
    },
    {
      "cell_type": "code",
      "execution_count": null,
      "metadata": {
        "id": "sPIYFY3deJXw"
      },
      "outputs": [],
      "source": [
        "# import visualkeras\n",
        "from google.colab import drive\n",
        "from tensorflow.keras.preprocessing.image import ImageDataGenerator\n",
        "from tensorflow.keras.preprocessing import image\n",
        "from tensorflow.keras.optimizers import Adam\n",
        "import matplotlib.pyplot as plt\n",
        "import tensorflow as tf\n",
        "import numpy as np\n",
        "import cv2\n",
        "import os\n",
        "import time"
      ]
    },
    {
      "cell_type": "code",
      "execution_count": null,
      "metadata": {
        "colab": {
          "base_uri": "https://localhost:8080/"
        },
        "id": "qUqzXQqoetu0",
        "outputId": "a56d2ff9-80a6-4c44-a88c-7caf46a5f43b"
      },
      "outputs": [
        {
          "output_type": "stream",
          "name": "stdout",
          "text": [
            "Mounted at /content/drive\n"
          ]
        }
      ],
      "source": [
        "drive.mount('/content/drive', force_remount=True)"
      ]
    },
    {
      "cell_type": "code",
      "execution_count": null,
      "metadata": {
        "id": "JwkH4UztfzWK"
      },
      "outputs": [],
      "source": [
        "path = '/content/drive/MyDrive/UAS_DL/CROP_AFTER_SPLIT_MIX'\n",
        "path2 = '/content/drive/MyDrive/UAS_DL/MODEL_CROP_AFTER_SPLIT_MIX'"
      ]
    },
    {
      "cell_type": "code",
      "execution_count": null,
      "metadata": {
        "id": "m88aFnerx4pB"
      },
      "outputs": [],
      "source": [
        "train = ImageDataGenerator(rescale=1/255)\n",
        "validation = ImageDataGenerator(rescale=1/255)"
      ]
    },
    {
      "cell_type": "code",
      "execution_count": null,
      "metadata": {
        "colab": {
          "base_uri": "https://localhost:8080/"
        },
        "id": "IT1ITnXJx7JF",
        "outputId": "b1c77d4a-b7a9-4923-a844-9be199a99830"
      },
      "outputs": [
        {
          "output_type": "stream",
          "name": "stdout",
          "text": [
            "Found 4638 images belonging to 30 classes.\n",
            "Found 558 images belonging to 30 classes.\n"
          ]
        }
      ],
      "source": [
        "train_dataset = train.flow_from_directory(path+'/train',\n",
        "                                          target_size=(224,224),\n",
        "                                          batch_size= 32,\n",
        "                                          class_mode='categorical')\n",
        "validation_dataset = validation.flow_from_directory(path+'/val',\n",
        "                                       target_size=(224,224),\n",
        "                                       batch_size=32,\n",
        "                                       class_mode='categorical')"
      ]
    },
    {
      "cell_type": "code",
      "execution_count": null,
      "metadata": {
        "colab": {
          "base_uri": "https://localhost:8080/"
        },
        "id": "8T1xT7Pvz2gY",
        "outputId": "33f5bbfd-897d-46d7-ae03-ad38db68217a"
      },
      "outputs": [
        {
          "output_type": "execute_result",
          "data": {
            "text/plain": [
              "['Alpinia Galanga/AG-S-001.jpg',\n",
              " 'Alpinia Galanga/AG-S-002.jpg',\n",
              " 'Alpinia Galanga/AG-S-003.jpg',\n",
              " 'Alpinia Galanga/AG-S-004.jpg',\n",
              " 'Alpinia Galanga/AG-S-005.jpg',\n",
              " 'Alpinia Galanga/AG-S-006.jpg',\n",
              " 'Alpinia Galanga/AG-S-007.jpg',\n",
              " 'Alpinia Galanga/AG-S-008.jpg',\n",
              " 'Alpinia Galanga/AG-S-009.jpg',\n",
              " 'Alpinia Galanga/AG-S-010.jpg',\n",
              " 'Alpinia Galanga/AG-S-012.jpg',\n",
              " 'Alpinia Galanga/AG-S-013.jpg',\n",
              " 'Alpinia Galanga/AG-S-014.jpg',\n",
              " 'Alpinia Galanga/AG-S-015.jpg',\n",
              " 'Alpinia Galanga/AG-S-016.jpg',\n",
              " 'Alpinia Galanga/AG-S-017.jpg',\n",
              " 'Alpinia Galanga/AG-S-018.jpg',\n",
              " 'Alpinia Galanga/AG-S-019.jpg',\n",
              " 'Alpinia Galanga/AG-S-020.jpg',\n",
              " 'Alpinia Galanga/AG-S-021.jpg',\n",
              " 'Alpinia Galanga/AG-S-023.jpg',\n",
              " 'Alpinia Galanga/AG-S-026.jpg',\n",
              " 'Alpinia Galanga/AG-S-027.jpg',\n",
              " 'Alpinia Galanga/AG-S-028.jpg',\n",
              " 'Alpinia Galanga/AG-S-029.jpg',\n",
              " 'Alpinia Galanga/AG-S-030.jpg',\n",
              " 'Alpinia Galanga/AG-S-031.jpg',\n",
              " 'Alpinia Galanga/AG-S-032.jpg',\n",
              " 'Alpinia Galanga/AG-S-033.jpg',\n",
              " 'Alpinia Galanga/AG-S-034.jpg',\n",
              " 'Alpinia Galanga/AG-S-036.jpg',\n",
              " 'Alpinia Galanga/AG-S-039.jpg',\n",
              " 'Alpinia Galanga/AG-S-042.jpg',\n",
              " 'Alpinia Galanga/AG-S-043.jpg',\n",
              " 'Alpinia Galanga/AG-S-044.jpg',\n",
              " 'Alpinia Galanga/AG-S-045.jpg',\n",
              " 'Alpinia Galanga/AG-S-047.jpg',\n",
              " 'Alpinia Galanga/AG-S-048.jpg',\n",
              " 'Alpinia Galanga/AG-S-049.jpg',\n",
              " 'Alpinia Galanga/AG-S-050.jpg',\n",
              " 'Alpinia Galanga/AG-S-051.jpg',\n",
              " 'Alpinia Galanga/AG-S-052.jpg',\n",
              " 'Alpinia Galanga/AG-S-053.jpg',\n",
              " 'Alpinia Galanga/AG-S-054.jpg',\n",
              " 'Alpinia Galanga/AG-S-055.jpg',\n",
              " 'Alpinia Galanga/AG-S-056.jpg',\n",
              " 'Alpinia Galanga/AG-S-057.jpg',\n",
              " 'Alpinia Galanga/AG-S-058.jpg',\n",
              " 'Alpinia Galanga/AG-S-059.jpg',\n",
              " 'Alpinia Galanga/AG-S-060.jpg',\n",
              " 'Alpinia Galanga/AG-S-061.jpg',\n",
              " 'Alpinia Galanga/AG-S-062.jpg',\n",
              " 'Alpinia Galanga/AG-S-063.jpg',\n",
              " 'Alpinia Galanga/AG-S-065.jpg',\n",
              " 'Alpinia Galanga/AG-S-066.jpg',\n",
              " 'Alpinia Galanga/AG-S-067.jpg',\n",
              " 'Alpinia Galanga/AG-S-068.jpg',\n",
              " 'Alpinia Galanga/AG-S-069.jpg',\n",
              " 'Alpinia Galanga/AG-S-070.jpg',\n",
              " 'Alpinia Galanga/AG-S-071.jpg',\n",
              " 'Alpinia Galanga/AG-S-073.jpg',\n",
              " 'Alpinia Galanga/AG-S-074.jpg',\n",
              " 'Alpinia Galanga/AG-S-075.jpg',\n",
              " 'Alpinia Galanga/AG-S-076.jpg',\n",
              " 'Alpinia Galanga/AG-S-078.jpg',\n",
              " 'Alpinia Galanga/AG-S-079.jpg',\n",
              " 'Alpinia Galanga/AG-S-080.jpg',\n",
              " 'Alpinia Galanga/AG-S-081.jpg',\n",
              " 'Alpinia Galanga/AG-S-082.jpg',\n",
              " 'Alpinia Galanga/AG-S-083.jpg',\n",
              " 'Alpinia Galanga/AG-S-084.jpg',\n",
              " 'Alpinia Galanga/AG-S-085.jpg',\n",
              " 'Alpinia Galanga/AG-S-086.jpg',\n",
              " 'Alpinia Galanga/AG-S-087.jpg',\n",
              " 'Alpinia Galanga/AG-S-088.jpg',\n",
              " 'Alpinia Galanga/AG-S-089.jpg',\n",
              " 'Alpinia Galanga/AG-S-091.jpg',\n",
              " 'Alpinia Galanga/AG-S-092.jpg',\n",
              " 'Alpinia Galanga/AG-S-094.jpg',\n",
              " 'Alpinia Galanga/AG-S-095.jpg',\n",
              " 'Alpinia Galanga/AG-S-096.jpg',\n",
              " 'Alpinia Galanga/AG-S-098.jpg',\n",
              " 'Alpinia Galanga/AG-S-099.jpg',\n",
              " 'Alpinia Galanga/AG-S-102.jpg',\n",
              " 'Alpinia Galanga/AG-S-103.jpg',\n",
              " 'Alpinia Galanga/AG-S-104.jpg',\n",
              " 'Alpinia Galanga/AG-S-106.jpg',\n",
              " 'Alpinia Galanga/AG-S-107.jpg',\n",
              " 'Alpinia Galanga/AG-S-108.jpg',\n",
              " 'Alpinia Galanga/AG-S-109.jpg',\n",
              " 'Alpinia Galanga/AG-S-110.jpg',\n",
              " 'Alpinia Galanga/AG-S-111.jpg',\n",
              " 'Alpinia Galanga/AG-S-112.jpg',\n",
              " 'Alpinia Galanga/AG-S-113.jpg',\n",
              " 'Alpinia Galanga/AG-S-114.jpg',\n",
              " 'Alpinia Galanga/AG-S-115.jpg',\n",
              " 'Alpinia Galanga/AG-S-116.jpg',\n",
              " 'Alpinia Galanga/AG-S-117.jpg',\n",
              " 'Alpinia Galanga/AG-S-118.jpg',\n",
              " 'Alpinia Galanga/AG-S-120.jpg',\n",
              " 'Alpinia Galanga/AG-S-121.jpg',\n",
              " 'Alpinia Galanga/AG-S-122.jpg',\n",
              " 'Alpinia Galanga/AG-S-123.jpg',\n",
              " 'Alpinia Galanga/AG-S-126.jpg',\n",
              " 'Alpinia Galanga/AG-S-127.jpg',\n",
              " 'Alpinia Galanga/AG-S-128.jpg',\n",
              " 'Alpinia Galanga/AG-S-129.jpg',\n",
              " 'Alpinia Galanga/AG-S-131.jpg',\n",
              " 'Alpinia Galanga/AG-S-133.jpg',\n",
              " 'Alpinia Galanga/AG-S-134.jpg',\n",
              " 'Alpinia Galanga/AG-S-136.jpg',\n",
              " 'Alpinia Galanga/AG-S-137.jpg',\n",
              " 'Alpinia Galanga/AG-S-138.jpg',\n",
              " 'Alpinia Galanga/AG-S-139.jpg',\n",
              " 'Alpinia Galanga/AG-S-142.jpg',\n",
              " 'Alpinia Galanga/AG-S-143.jpg',\n",
              " 'Alpinia Galanga/AG-S-145.jpg',\n",
              " 'Alpinia Galanga/AG-S-146.jpg',\n",
              " 'Alpinia Galanga/AG-S-147.jpg',\n",
              " 'Alpinia Galanga/AG-S-149.jpg',\n",
              " 'Alpinia Galanga/AG-S-151.jpg',\n",
              " 'Alpinia Galanga/AG-S-153.jpg',\n",
              " 'Alpinia Galanga/AG-S-154.jpg',\n",
              " 'Alpinia Galanga/AG-S-155.jpg',\n",
              " 'Alpinia Galanga/AG-S-157.jpg',\n",
              " 'Alpinia Galanga/AG-S-158.jpg',\n",
              " 'Alpinia Galanga/AG-S-159.jpg',\n",
              " 'Alpinia Galanga/AG-S-161.jpg',\n",
              " 'Alpinia Galanga/AG-S-162.jpg',\n",
              " 'Alpinia Galanga/AG-S-163.jpg',\n",
              " 'Alpinia Galanga/AG-S-164.jpg',\n",
              " 'Alpinia Galanga/AG-S-165.jpg',\n",
              " 'Alpinia Galanga/AG-S-166.jpg',\n",
              " 'Alpinia Galanga/AG-S-167.jpg',\n",
              " 'Alpinia Galanga/AG-S-168.jpg',\n",
              " 'Alpinia Galanga/AG-S-170.jpg',\n",
              " 'Alpinia Galanga/AG-S-172.jpg',\n",
              " 'Alpinia Galanga/AG-S-173.jpg',\n",
              " 'Alpinia Galanga/AG-S-174.jpg',\n",
              " 'Amaranthus Viridis/AV-S-001.jpg',\n",
              " 'Amaranthus Viridis/AV-S-002.jpg',\n",
              " 'Amaranthus Viridis/AV-S-003.jpg',\n",
              " 'Amaranthus Viridis/AV-S-004.jpg',\n",
              " 'Amaranthus Viridis/AV-S-005.jpg',\n",
              " 'Amaranthus Viridis/AV-S-006.jpg',\n",
              " 'Amaranthus Viridis/AV-S-008.jpg',\n",
              " 'Amaranthus Viridis/AV-S-009.jpg',\n",
              " 'Amaranthus Viridis/AV-S-010.jpg',\n",
              " 'Amaranthus Viridis/AV-S-011.jpg',\n",
              " 'Amaranthus Viridis/AV-S-012.jpg',\n",
              " 'Amaranthus Viridis/AV-S-013.jpg',\n",
              " 'Amaranthus Viridis/AV-S-014.jpg',\n",
              " 'Amaranthus Viridis/AV-S-016.jpg',\n",
              " 'Amaranthus Viridis/AV-S-017.jpg',\n",
              " 'Amaranthus Viridis/AV-S-018.jpg',\n",
              " 'Amaranthus Viridis/AV-S-019.jpg',\n",
              " 'Amaranthus Viridis/AV-S-020.jpg',\n",
              " 'Amaranthus Viridis/AV-S-021.jpg',\n",
              " 'Amaranthus Viridis/AV-S-022.jpg',\n",
              " 'Amaranthus Viridis/AV-S-024.jpg',\n",
              " 'Amaranthus Viridis/AV-S-025.jpg',\n",
              " 'Amaranthus Viridis/AV-S-026.jpg',\n",
              " 'Amaranthus Viridis/AV-S-027.jpg',\n",
              " 'Amaranthus Viridis/AV-S-029.jpg',\n",
              " 'Amaranthus Viridis/AV-S-030.jpg',\n",
              " 'Amaranthus Viridis/AV-S-031.jpg',\n",
              " 'Amaranthus Viridis/AV-S-032.jpg',\n",
              " 'Amaranthus Viridis/AV-S-033.jpg',\n",
              " 'Amaranthus Viridis/AV-S-034.jpg',\n",
              " 'Amaranthus Viridis/AV-S-035.jpg',\n",
              " 'Amaranthus Viridis/AV-S-036.jpg',\n",
              " 'Amaranthus Viridis/AV-S-037.jpg',\n",
              " 'Amaranthus Viridis/AV-S-038.jpg',\n",
              " 'Amaranthus Viridis/AV-S-039.jpg',\n",
              " 'Amaranthus Viridis/AV-S-040.jpg',\n",
              " 'Amaranthus Viridis/AV-S-042.jpg',\n",
              " 'Amaranthus Viridis/AV-S-043.jpg',\n",
              " 'Amaranthus Viridis/AV-S-045.jpg',\n",
              " 'Amaranthus Viridis/AV-S-046.jpg',\n",
              " 'Amaranthus Viridis/AV-S-047.jpg',\n",
              " 'Amaranthus Viridis/AV-S-049.jpg',\n",
              " 'Amaranthus Viridis/AV-S-050.jpg',\n",
              " 'Amaranthus Viridis/AV-S-053.jpg',\n",
              " 'Amaranthus Viridis/AV-S-054.jpg',\n",
              " 'Amaranthus Viridis/AV-S-055.jpg',\n",
              " 'Amaranthus Viridis/AV-S-057.jpg',\n",
              " 'Amaranthus Viridis/AV-S-058.jpg',\n",
              " 'Amaranthus Viridis/AV-S-059.jpg',\n",
              " 'Amaranthus Viridis/AV-S-060.jpg',\n",
              " 'Amaranthus Viridis/AV-S-061.jpg',\n",
              " 'Amaranthus Viridis/AV-S-062.jpg',\n",
              " 'Amaranthus Viridis/AV-S-063.jpg',\n",
              " 'Amaranthus Viridis/AV-S-064.jpg',\n",
              " 'Amaranthus Viridis/AV-S-065.jpg',\n",
              " 'Amaranthus Viridis/AV-S-066.jpg',\n",
              " 'Amaranthus Viridis/AV-S-067.jpg',\n",
              " 'Amaranthus Viridis/AV-S-068.jpg',\n",
              " 'Amaranthus Viridis/AV-S-069.jpg',\n",
              " 'Amaranthus Viridis/AV-S-071.jpg',\n",
              " 'Amaranthus Viridis/AV-S-072.jpg',\n",
              " 'Amaranthus Viridis/AV-S-073.jpg',\n",
              " 'Amaranthus Viridis/AV-S-074.jpg',\n",
              " 'Amaranthus Viridis/AV-S-077.jpg',\n",
              " 'Amaranthus Viridis/AV-S-078.jpg',\n",
              " 'Amaranthus Viridis/AV-S-079.jpg',\n",
              " 'Amaranthus Viridis/AV-S-080.jpg',\n",
              " 'Amaranthus Viridis/AV-S-082.jpg',\n",
              " 'Amaranthus Viridis/AV-S-084.jpg',\n",
              " 'Amaranthus Viridis/AV-S-085.jpg',\n",
              " 'Amaranthus Viridis/AV-S-087.jpg',\n",
              " 'Amaranthus Viridis/AV-S-088.jpg',\n",
              " 'Amaranthus Viridis/AV-S-089.jpg',\n",
              " 'Amaranthus Viridis/AV-S-090.jpg',\n",
              " 'Amaranthus Viridis/AV-S-093.jpg',\n",
              " 'Amaranthus Viridis/AV-S-094.jpg',\n",
              " 'Amaranthus Viridis/AV-S-096.jpg',\n",
              " 'Amaranthus Viridis/AV-S-097.jpg',\n",
              " 'Amaranthus Viridis/AV-S-098.jpg',\n",
              " 'Amaranthus Viridis/AV-S-100.jpg',\n",
              " 'Amaranthus Viridis/AV-S-102.jpg',\n",
              " 'Amaranthus Viridis/AV-S-104.jpg',\n",
              " 'Amaranthus Viridis/AV-S-105.jpg',\n",
              " 'Amaranthus Viridis/AV-S-106.jpg',\n",
              " 'Amaranthus Viridis/AV-S-109.jpg',\n",
              " 'Amaranthus Viridis/AV-S-110.jpg',\n",
              " 'Amaranthus Viridis/AV-S-111.jpg',\n",
              " 'Amaranthus Viridis/AV-S-112.jpg',\n",
              " 'Amaranthus Viridis/AV-S-113.jpg',\n",
              " 'Amaranthus Viridis/AV-S-114.jpg',\n",
              " 'Amaranthus Viridis/AV-S-115.jpg',\n",
              " 'Amaranthus Viridis/AV-S-116.jpg',\n",
              " 'Amaranthus Viridis/AV-S-117.jpg',\n",
              " 'Amaranthus Viridis/AV-S-118.jpg',\n",
              " 'Amaranthus Viridis/AV-S-121.jpg',\n",
              " 'Amaranthus Viridis/AV-S-122.jpg',\n",
              " 'Amaranthus Viridis/AV-S-123.jpg',\n",
              " 'Amaranthus Viridis/AV-S-124.jpg',\n",
              " 'Amaranthus Viridis/AV-S-125.jpg',\n",
              " 'Amaranthus Viridis/AV-S-126.jpg',\n",
              " 'Amaranthus Viridis/AV-S-127.jpg',\n",
              " 'Amaranthus Viridis/AV-S-128.jpg',\n",
              " 'Amaranthus Viridis/AV-S-129.jpg',\n",
              " 'Amaranthus Viridis/AV-S-130.jpg',\n",
              " 'Amaranthus Viridis/AV-S-131.jpg',\n",
              " 'Amaranthus Viridis/AV-S-132.jpg',\n",
              " 'Amaranthus Viridis/AV-S-133.jpg',\n",
              " 'Amaranthus Viridis/AV-S-135.jpg',\n",
              " 'Amaranthus Viridis/AV-S-136.jpg',\n",
              " 'Amaranthus Viridis/AV-S-137.jpg',\n",
              " 'Amaranthus Viridis/AV-S-138.jpg',\n",
              " 'Amaranthus Viridis/AV-S-139.jpg',\n",
              " 'Amaranthus Viridis/AV-S-140.jpg',\n",
              " 'Amaranthus Viridis/AV-S-141.jpg',\n",
              " 'Amaranthus Viridis/AV-S-142.jpg',\n",
              " 'Amaranthus Viridis/AV-S-146.jpg',\n",
              " 'Amaranthus Viridis/AV-S-147.jpg',\n",
              " 'Amaranthus Viridis/AV-S-149.jpg',\n",
              " 'Amaranthus Viridis/AV-S-152.jpg',\n",
              " 'Amaranthus Viridis/AV-S-153.jpg',\n",
              " 'Amaranthus Viridis/AV-S-154.jpg',\n",
              " 'Amaranthus Viridis/AV-S-155.jpg',\n",
              " 'Amaranthus Viridis/AV-S-156.jpg',\n",
              " 'Amaranthus Viridis/AV-S-157.jpg',\n",
              " 'Amaranthus Viridis/AV-S-158.jpg',\n",
              " 'Amaranthus Viridis/AV-S-159.jpg',\n",
              " 'Amaranthus Viridis/AV-S-160.jpg',\n",
              " 'Amaranthus Viridis/AV-S-162.jpg',\n",
              " 'Amaranthus Viridis/AV-S-165.jpg',\n",
              " 'Amaranthus Viridis/AV-S-168.jpg',\n",
              " 'Amaranthus Viridis/AV-S-169.jpg',\n",
              " 'Amaranthus Viridis/AV-S-170.jpg',\n",
              " 'Amaranthus Viridis/AV-S-171.jpg',\n",
              " 'Amaranthus Viridis/AV-S-174.jpg',\n",
              " 'Amaranthus Viridis/AV-S-175.jpg',\n",
              " 'Amaranthus Viridis/AV-S-176.jpg',\n",
              " 'Amaranthus Viridis/AV-S-177.jpg',\n",
              " 'Amaranthus Viridis/AV-S-178.jpg',\n",
              " 'Amaranthus Viridis/AV-S-179.jpg',\n",
              " 'Amaranthus Viridis/AV-S-180.jpg',\n",
              " 'Amaranthus Viridis/AV-S-181.jpg',\n",
              " 'Artocarpus Heterophyllus/AH-S-001.jpg',\n",
              " 'Artocarpus Heterophyllus/AH-S-002.jpg',\n",
              " 'Artocarpus Heterophyllus/AH-S-003.jpg',\n",
              " 'Artocarpus Heterophyllus/AH-S-004.jpg',\n",
              " 'Artocarpus Heterophyllus/AH-S-005.jpg',\n",
              " 'Artocarpus Heterophyllus/AH-S-006.jpg',\n",
              " 'Artocarpus Heterophyllus/AH-S-007.jpg',\n",
              " 'Artocarpus Heterophyllus/AH-S-008.jpg',\n",
              " 'Artocarpus Heterophyllus/AH-S-009.jpg',\n",
              " 'Artocarpus Heterophyllus/AH-S-010.jpg',\n",
              " 'Artocarpus Heterophyllus/AH-S-012.jpg',\n",
              " 'Artocarpus Heterophyllus/AH-S-013.jpg',\n",
              " 'Artocarpus Heterophyllus/AH-S-014.jpg',\n",
              " 'Artocarpus Heterophyllus/AH-S-015.jpg',\n",
              " 'Artocarpus Heterophyllus/AH-S-016.jpg',\n",
              " 'Artocarpus Heterophyllus/AH-S-017.jpg',\n",
              " 'Artocarpus Heterophyllus/AH-S-018.jpg',\n",
              " 'Artocarpus Heterophyllus/AH-S-019.jpg',\n",
              " 'Artocarpus Heterophyllus/AH-S-020.jpg',\n",
              " 'Artocarpus Heterophyllus/AH-S-021.jpg',\n",
              " 'Artocarpus Heterophyllus/AH-S-023.jpg',\n",
              " 'Artocarpus Heterophyllus/AH-S-026.jpg',\n",
              " 'Artocarpus Heterophyllus/AH-S-027.jpg',\n",
              " 'Artocarpus Heterophyllus/AH-S-028.jpg',\n",
              " 'Artocarpus Heterophyllus/AH-S-029.jpg',\n",
              " 'Artocarpus Heterophyllus/AH-S-030.jpg',\n",
              " 'Artocarpus Heterophyllus/AH-S-031.jpg',\n",
              " 'Artocarpus Heterophyllus/AH-S-032.jpg',\n",
              " 'Artocarpus Heterophyllus/AH-S-033.jpg',\n",
              " 'Artocarpus Heterophyllus/AH-S-034.jpg',\n",
              " 'Artocarpus Heterophyllus/AH-S-036.jpg',\n",
              " 'Artocarpus Heterophyllus/AH-S-039.jpg',\n",
              " 'Artocarpus Heterophyllus/AH-S-042.jpg',\n",
              " 'Artocarpus Heterophyllus/AH-S-043.jpg',\n",
              " 'Artocarpus Heterophyllus/AH-S-044.jpg',\n",
              " 'Artocarpus Heterophyllus/AH-S-045.jpg',\n",
              " 'Artocarpus Heterophyllus/AH-S-048.jpg',\n",
              " 'Artocarpus Heterophyllus/AH-S-049.jpg',\n",
              " 'Artocarpus Heterophyllus/AH-S-050.jpg',\n",
              " 'Artocarpus Heterophyllus/AH-S-051.jpg',\n",
              " 'Artocarpus Heterophyllus/AH-S-052.jpg',\n",
              " 'Artocarpus Heterophyllus/AH-S-054.jpg',\n",
              " 'Artocarpus Heterophyllus/AH-S-055.jpg',\n",
              " 'Artocarpus Heterophyllus/AH-S-056.jpg',\n",
              " 'Artocarpus Heterophyllus/AH-S-057.jpg',\n",
              " 'Artocarpus Heterophyllus/AH-S-058.jpg',\n",
              " 'Artocarpus Heterophyllus/AH-S-059.jpg',\n",
              " 'Artocarpus Heterophyllus/AH-S-060.jpg',\n",
              " 'Artocarpus Heterophyllus/AH-S-062.jpg',\n",
              " 'Artocarpus Heterophyllus/AH-S-063.jpg',\n",
              " 'Artocarpus Heterophyllus/AH-S-064.jpg',\n",
              " 'Artocarpus Heterophyllus/AH-S-065.jpg',\n",
              " 'Artocarpus Heterophyllus/AH-S-066.jpg',\n",
              " 'Artocarpus Heterophyllus/AH-S-067.jpg',\n",
              " 'Artocarpus Heterophyllus/AH-S-068.jpg',\n",
              " 'Artocarpus Heterophyllus/AH-S-069.jpg',\n",
              " 'Artocarpus Heterophyllus/AH-S-070.jpg',\n",
              " 'Artocarpus Heterophyllus/AH-S-071.jpg',\n",
              " 'Artocarpus Heterophyllus/AH-S-072.jpg',\n",
              " 'Artocarpus Heterophyllus/AH-S-075.jpg',\n",
              " 'Artocarpus Heterophyllus/AH-S-076.jpg',\n",
              " 'Artocarpus Heterophyllus/AH-S-077.jpg',\n",
              " 'Artocarpus Heterophyllus/AH-S-078.jpg',\n",
              " 'Artocarpus Heterophyllus/AH-S-079.jpg',\n",
              " 'Artocarpus Heterophyllus/AH-S-080.jpg',\n",
              " 'Artocarpus Heterophyllus/AH-S-081.jpg',\n",
              " 'Artocarpus Heterophyllus/AH-S-082.jpg',\n",
              " 'Artocarpus Heterophyllus/AH-S-083.jpg',\n",
              " 'Artocarpus Heterophyllus/AH-S-085.jpg',\n",
              " 'Artocarpus Heterophyllus/AH-S-086.jpg',\n",
              " 'Artocarpus Heterophyllus/AH-S-088.jpg',\n",
              " 'Artocarpus Heterophyllus/AH-S-089.jpg',\n",
              " 'Artocarpus Heterophyllus/AH-S-090.jpg',\n",
              " 'Artocarpus Heterophyllus/AH-S-091.jpg',\n",
              " 'Artocarpus Heterophyllus/AH-S-092.jpg',\n",
              " 'Artocarpus Heterophyllus/AH-S-093.jpg',\n",
              " 'Artocarpus Heterophyllus/AH-S-094.jpg',\n",
              " 'Artocarpus Heterophyllus/AH-S-095.jpg',\n",
              " 'Artocarpus Heterophyllus/AH-S-096.jpg',\n",
              " 'Artocarpus Heterophyllus/AH-S-097.jpg',\n",
              " 'Artocarpus Heterophyllus/AH-S-098.jpg',\n",
              " 'Artocarpus Heterophyllus/AH-S-101.jpg',\n",
              " 'Artocarpus Heterophyllus/AH-S-102.jpg',\n",
              " 'Artocarpus Heterophyllus/AH-S-103.jpg',\n",
              " 'Artocarpus Heterophyllus/AH-S-104.jpg',\n",
              " 'Artocarpus Heterophyllus/AH-S-105.jpg',\n",
              " 'Artocarpus Heterophyllus/AH-S-106.jpg',\n",
              " 'Artocarpus Heterophyllus/AH-S-107.jpg',\n",
              " 'Artocarpus Heterophyllus/AH-S-110.jpg',\n",
              " 'Artocarpus Heterophyllus/AH-S-111.jpg',\n",
              " 'Artocarpus Heterophyllus/AH-S-112.jpg',\n",
              " 'Artocarpus Heterophyllus/AH-S-113.jpg',\n",
              " 'Artocarpus Heterophyllus/AH-S-114.jpg',\n",
              " 'Artocarpus Heterophyllus/AH-S-115.jpg',\n",
              " 'Artocarpus Heterophyllus/AH-S-116.jpg',\n",
              " 'Artocarpus Heterophyllus/AH-S-117.jpg',\n",
              " 'Artocarpus Heterophyllus/AH-S-118.jpg',\n",
              " 'Artocarpus Heterophyllus/AH-S-119.jpg',\n",
              " 'Artocarpus Heterophyllus/AH-S-121.jpg',\n",
              " 'Artocarpus Heterophyllus/AH-S-122.jpg',\n",
              " 'Artocarpus Heterophyllus/AH-S-123.jpg',\n",
              " 'Artocarpus Heterophyllus/AH-S-125.jpg',\n",
              " 'Artocarpus Heterophyllus/AH-S-126.jpg',\n",
              " 'Artocarpus Heterophyllus/AH-S-127.jpg',\n",
              " 'Artocarpus Heterophyllus/AH-S-128.jpg',\n",
              " 'Artocarpus Heterophyllus/AH-S-129.jpg',\n",
              " 'Artocarpus Heterophyllus/AH-S-130.jpg',\n",
              " 'Artocarpus Heterophyllus/AH-S-131.jpg',\n",
              " 'Artocarpus Heterophyllus/AH-S-132.jpg',\n",
              " 'Artocarpus Heterophyllus/AH-S-133.jpg',\n",
              " 'Artocarpus Heterophyllus/AH-S-134.jpg',\n",
              " 'Artocarpus Heterophyllus/AH-S-138.jpg',\n",
              " 'Artocarpus Heterophyllus/AH-S-139.jpg',\n",
              " 'Artocarpus Heterophyllus/AH-S-140.jpg',\n",
              " 'Artocarpus Heterophyllus/AH-S-141.jpg',\n",
              " 'Artocarpus Heterophyllus/AH-S-143.jpg',\n",
              " 'Artocarpus Heterophyllus/AH-S-144.jpg',\n",
              " 'Artocarpus Heterophyllus/AH-S-145.jpg',\n",
              " 'Artocarpus Heterophyllus/AH-S-148.jpg',\n",
              " 'Artocarpus Heterophyllus/AH-S-151.jpg',\n",
              " 'Artocarpus Heterophyllus/AH-S-152.jpg',\n",
              " 'Artocarpus Heterophyllus/AH-S-153.jpg',\n",
              " 'Artocarpus Heterophyllus/AH-S-154.jpg',\n",
              " 'Artocarpus Heterophyllus/AH-S-156.jpg',\n",
              " 'Artocarpus Heterophyllus/AH-S-158.jpg',\n",
              " 'Artocarpus Heterophyllus/AH-S-161.jpg',\n",
              " 'Artocarpus Heterophyllus/AH-S-162.jpg',\n",
              " 'Artocarpus Heterophyllus/AH-S-163.jpg',\n",
              " 'Artocarpus Heterophyllus/AH-S-164.jpg',\n",
              " 'Artocarpus Heterophyllus/AH-S-166.jpg',\n",
              " 'Artocarpus Heterophyllus/AH-S-167.jpg',\n",
              " 'Artocarpus Heterophyllus/AH-S-168.jpg',\n",
              " 'Artocarpus Heterophyllus/AH-S-169.jpg',\n",
              " 'Artocarpus Heterophyllus/AH-S-170.jpg',\n",
              " 'Artocarpus Heterophyllus/AH-S-171.jpg',\n",
              " 'Artocarpus Heterophyllus/AH-S-172.jpg',\n",
              " 'Artocarpus Heterophyllus/AH-S-173.jpg',\n",
              " 'Artocarpus Heterophyllus/AH-S-175.jpg',\n",
              " 'Artocarpus Heterophyllus/AH-S-176.jpg',\n",
              " 'Artocarpus Heterophyllus/AH-S-177.jpg',\n",
              " 'Artocarpus Heterophyllus/AH-S-178.jpg',\n",
              " 'Artocarpus Heterophyllus/AH-S-179.jpg',\n",
              " 'Artocarpus Heterophyllus/AH-S-180.jpg',\n",
              " 'Artocarpus Heterophyllus/AH-S-181.jpg',\n",
              " 'Artocarpus Heterophyllus/AH-S-182.jpg',\n",
              " 'Artocarpus Heterophyllus/AH-S-183.jpg',\n",
              " 'Artocarpus Heterophyllus/AH-S-184.jpg',\n",
              " 'Artocarpus Heterophyllus/AH-S-185.jpg',\n",
              " 'Artocarpus Heterophyllus/AH-S-187.jpg',\n",
              " 'Artocarpus Heterophyllus/AH-S-188.jpg',\n",
              " 'Artocarpus Heterophyllus/AH-S-189.jpg',\n",
              " 'Artocarpus Heterophyllus/AH-S-190.jpg',\n",
              " 'Artocarpus Heterophyllus/AH-S-192.jpg',\n",
              " 'Artocarpus Heterophyllus/AH-S-194.jpg',\n",
              " 'Artocarpus Heterophyllus/AH-S-195.jpg',\n",
              " 'Artocarpus Heterophyllus/AH-S-196.jpg',\n",
              " 'Artocarpus Heterophyllus/AH-S-197.jpg',\n",
              " 'Artocarpus Heterophyllus/AH-S-198.jpg',\n",
              " 'Artocarpus Heterophyllus/AH-S-199.jpg',\n",
              " 'Artocarpus Heterophyllus/AH-S-201.jpg',\n",
              " 'Artocarpus Heterophyllus/AH-S-202.jpg',\n",
              " 'Artocarpus Heterophyllus/AH-S-204.jpg',\n",
              " 'Artocarpus Heterophyllus/AH-S-205.jpg',\n",
              " 'Artocarpus Heterophyllus/AH-S-207.jpg',\n",
              " 'Artocarpus Heterophyllus/AH-S-208.jpg',\n",
              " 'Artocarpus Heterophyllus/AH-S-209.jpg',\n",
              " 'Artocarpus Heterophyllus/AH-S-210.jpg',\n",
              " 'Artocarpus Heterophyllus/AH-S-211.jpg',\n",
              " 'Artocarpus Heterophyllus/AH-S-212.jpg',\n",
              " 'Artocarpus Heterophyllus/AH-S-213.jpg',\n",
              " 'Artocarpus Heterophyllus/AH-S-214.jpg',\n",
              " 'Artocarpus Heterophyllus/AH-S-216.jpg',\n",
              " 'Artocarpus Heterophyllus/AH-S-217.jpg',\n",
              " 'Artocarpus Heterophyllus/AH-S-218.jpg',\n",
              " 'Artocarpus Heterophyllus/AH-S-219.jpg',\n",
              " 'Artocarpus Heterophyllus/AH-S-220.jpg',\n",
              " 'Artocarpus Heterophyllus/AH-S-222.jpg',\n",
              " 'Artocarpus Heterophyllus/AH-S-224.jpg',\n",
              " 'Artocarpus Heterophyllus/AH-S-226.jpg',\n",
              " 'Azadirachta Indica/1060.jpg',\n",
              " 'Azadirachta Indica/1062.jpg',\n",
              " 'Azadirachta Indica/1064.jpg',\n",
              " 'Azadirachta Indica/1066.jpg',\n",
              " 'Azadirachta Indica/1068.jpg',\n",
              " 'Azadirachta Indica/1070.jpg',\n",
              " 'Azadirachta Indica/1072.jpg',\n",
              " 'Azadirachta Indica/1074.jpg',\n",
              " 'Azadirachta Indica/1076.jpg',\n",
              " 'Azadirachta Indica/1078.jpg',\n",
              " 'Azadirachta Indica/1080.jpg',\n",
              " 'Azadirachta Indica/1082.jpg',\n",
              " 'Azadirachta Indica/1084.jpg',\n",
              " 'Azadirachta Indica/1088.jpg',\n",
              " 'Azadirachta Indica/1090.jpg',\n",
              " 'Azadirachta Indica/AI-S-004.jpg',\n",
              " 'Azadirachta Indica/AI-S-005.jpg',\n",
              " 'Azadirachta Indica/AI-S-006.jpg',\n",
              " 'Azadirachta Indica/AI-S-007.jpg',\n",
              " 'Azadirachta Indica/AI-S-008.jpg',\n",
              " 'Azadirachta Indica/AI-S-009.jpg',\n",
              " 'Azadirachta Indica/AI-S-010.jpg',\n",
              " 'Azadirachta Indica/AI-S-011.jpg',\n",
              " 'Azadirachta Indica/AI-S-012.jpg',\n",
              " 'Azadirachta Indica/AI-S-013.jpg',\n",
              " 'Azadirachta Indica/AI-S-015.jpg',\n",
              " 'Azadirachta Indica/AI-S-016.jpg',\n",
              " 'Azadirachta Indica/AI-S-017.jpg',\n",
              " 'Azadirachta Indica/AI-S-018.jpg',\n",
              " 'Azadirachta Indica/AI-S-019.jpg',\n",
              " 'Azadirachta Indica/AI-S-020.jpg',\n",
              " 'Azadirachta Indica/AI-S-021.jpg',\n",
              " 'Azadirachta Indica/AI-S-022.jpg',\n",
              " 'Azadirachta Indica/AI-S-023.jpg',\n",
              " 'Azadirachta Indica/AI-S-024.jpg',\n",
              " 'Azadirachta Indica/AI-S-026.jpg',\n",
              " 'Azadirachta Indica/AI-S-029.jpg',\n",
              " 'Azadirachta Indica/AI-S-030.jpg',\n",
              " 'Azadirachta Indica/AI-S-031.jpg',\n",
              " 'Azadirachta Indica/AI-S-032.jpg',\n",
              " 'Azadirachta Indica/AI-S-033.jpg',\n",
              " 'Azadirachta Indica/AI-S-034.jpg',\n",
              " 'Azadirachta Indica/AI-S-035.jpg',\n",
              " 'Azadirachta Indica/AI-S-036.jpg',\n",
              " 'Azadirachta Indica/AI-S-037.jpg',\n",
              " 'Azadirachta Indica/AI-S-039.jpg',\n",
              " 'Azadirachta Indica/AI-S-042.jpg',\n",
              " 'Azadirachta Indica/AI-S-045.jpg',\n",
              " 'Azadirachta Indica/AI-S-046.jpg',\n",
              " 'Azadirachta Indica/AI-S-047.jpg',\n",
              " 'Azadirachta Indica/AI-S-048.jpg',\n",
              " 'Azadirachta Indica/AI-S-051.jpg',\n",
              " 'Azadirachta Indica/AI-S-052.jpg',\n",
              " 'Azadirachta Indica/AI-S-054.jpg',\n",
              " 'Azadirachta Indica/AI-S-055.jpg',\n",
              " 'Azadirachta Indica/AI-S-056.jpg',\n",
              " 'Azadirachta Indica/AI-S-057.jpg',\n",
              " 'Azadirachta Indica/AI-S-058.jpg',\n",
              " 'Azadirachta Indica/AI-S-059.jpg',\n",
              " 'Azadirachta Indica/AI-S-060.jpg',\n",
              " 'Azadirachta Indica/AI-S-061.jpg',\n",
              " 'Azadirachta Indica/AI-S-062.jpg',\n",
              " 'Azadirachta Indica/AI-S-063.jpg',\n",
              " 'Azadirachta Indica/AI-S-083.jpg',\n",
              " 'Azadirachta Indica/AI-S-084.jpg',\n",
              " 'Azadirachta Indica/AI-S-085.jpg',\n",
              " 'Azadirachta Indica/AI-S-086.jpg',\n",
              " 'Azadirachta Indica/AI-S-087.jpg',\n",
              " 'Azadirachta Indica/AI-S-089.jpg',\n",
              " 'Azadirachta Indica/AI-S-090.jpg',\n",
              " 'Azadirachta Indica/AI-S-102.jpg',\n",
              " 'Azadirachta Indica/AI-S-103.jpg',\n",
              " 'Azadirachta Indica/AI-S-105.jpg',\n",
              " 'Azadirachta Indica/AI-S-106.jpg',\n",
              " 'Azadirachta Indica/AI-S-107.jpg',\n",
              " 'Azadirachta Indica/AI-S-108.jpg',\n",
              " 'Azadirachta Indica/AI-S-109.jpg',\n",
              " 'Azadirachta Indica/AI-S-110.jpg',\n",
              " 'Azadirachta Indica/AI-S-111.jpg',\n",
              " 'Azadirachta Indica/AI-S-112.jpg',\n",
              " 'Azadirachta Indica/AI-S-139.jpg',\n",
              " 'Azadirachta Indica/AI-S-140.jpg',\n",
              " 'Azadirachta Indica/AI-S-141.jpg',\n",
              " 'Azadirachta Indica/AI-S-142.jpg',\n",
              " 'Azadirachta Indica/AI-S-144.jpg',\n",
              " 'Azadirachta Indica/AI-S-145.jpg',\n",
              " 'Azadirachta Indica/AI-S-147.jpg',\n",
              " 'Azadirachta Indica/AI-S-148.jpg',\n",
              " 'Azadirachta Indica/AI-S-149.jpg',\n",
              " 'Azadirachta Indica/AI-S-151.jpg',\n",
              " 'Azadirachta Indica/AI-S-152.jpg',\n",
              " 'Azadirachta Indica/AI-S-156.jpg',\n",
              " 'Azadirachta Indica/AI-S-157.jpg',\n",
              " 'Azadirachta Indica/AI-S-159.jpg',\n",
              " 'Azadirachta Indica/AI-S-160.jpg',\n",
              " 'Azadirachta Indica/AI-S-161.jpg',\n",
              " 'Azadirachta Indica/AI-S-162.jpg',\n",
              " 'Azadirachta Indica/AI-S-163.jpg',\n",
              " 'Azadirachta Indica/AI-S-164.jpg',\n",
              " 'Azadirachta Indica/AI-S-165.jpg',\n",
              " 'Azadirachta Indica/AI-S-166.jpg',\n",
              " 'Azadirachta Indica/AI-S-167.jpg',\n",
              " 'Azadirachta Indica/AI-S-168.jpg',\n",
              " 'Azadirachta Indica/AI-S-169.jpg',\n",
              " 'Azadirachta Indica/AI-S-170.jpg',\n",
              " 'Azadirachta Indica/AI-S-171.jpg',\n",
              " 'Azadirachta Indica/AI-S-173.jpg',\n",
              " 'Azadirachta Indica/AI-S-174.jpg',\n",
              " 'Azadirachta Indica/AI-S-175.jpg',\n",
              " 'Azadirachta Indica/AI-S-176.jpg',\n",
              " 'Azadirachta Indica/AI-S-179.jpg',\n",
              " 'Azadirachta Indica/AI-S-180.jpg',\n",
              " 'Azadirachta Indica/AI-S-181.jpg',\n",
              " 'Azadirachta Indica/AI-S-182.jpg',\n",
              " 'Azadirachta Indica/AI-S-184.jpg',\n",
              " 'Azadirachta Indica/AI-S-186.jpg',\n",
              " 'Azadirachta Indica/AI-S-187.jpg',\n",
              " 'Azadirachta Indica/AI-S-189.jpg',\n",
              " 'Azadirachta Indica/AI-S-190.jpg',\n",
              " 'Azadirachta Indica/AI-S-191.jpg',\n",
              " 'Azadirachta Indica/AI-S-192.jpg',\n",
              " 'Azadirachta Indica/AI-S-193.jpg',\n",
              " 'Azadirachta Indica/AI-S-196.jpg',\n",
              " 'Azadirachta Indica/AI-S-198.jpg',\n",
              " 'Azadirachta Indica/AI-S-199.jpg',\n",
              " 'Azadirachta Indica/AI-S-200.jpg',\n",
              " 'Azadirachta Indica/AI-S-201.jpg',\n",
              " 'Azadirachta Indica/AI-S-204.jpg',\n",
              " 'Azadirachta Indica/AI-S-205.jpg',\n",
              " 'Basella Alba/BA-S-001.jpg',\n",
              " 'Basella Alba/BA-S-002.jpg',\n",
              " 'Basella Alba/BA-S-003.jpg',\n",
              " 'Basella Alba/BA-S-004.jpg',\n",
              " 'Basella Alba/BA-S-005.jpg',\n",
              " 'Basella Alba/BA-S-006.jpg',\n",
              " 'Basella Alba/BA-S-007.jpg',\n",
              " 'Basella Alba/BA-S-008.jpg',\n",
              " 'Basella Alba/BA-S-009.jpg',\n",
              " 'Basella Alba/BA-S-010.jpg',\n",
              " 'Basella Alba/BA-S-011.jpg',\n",
              " 'Basella Alba/BA-S-012.jpg',\n",
              " 'Basella Alba/BA-S-013.jpg',\n",
              " 'Basella Alba/BA-S-015.jpg',\n",
              " 'Basella Alba/BA-S-016.jpg',\n",
              " 'Basella Alba/BA-S-017.jpg',\n",
              " 'Basella Alba/BA-S-018.jpg',\n",
              " 'Basella Alba/BA-S-019.jpg',\n",
              " 'Basella Alba/BA-S-020.jpg',\n",
              " 'Basella Alba/BA-S-021.jpg',\n",
              " 'Basella Alba/BA-S-023.jpg',\n",
              " 'Basella Alba/BA-S-024.jpg',\n",
              " 'Basella Alba/BA-S-025.jpg',\n",
              " 'Basella Alba/BA-S-026.jpg',\n",
              " 'Basella Alba/BA-S-028.jpg',\n",
              " 'Basella Alba/BA-S-029.jpg',\n",
              " 'Basella Alba/BA-S-030.jpg',\n",
              " 'Basella Alba/BA-S-031.jpg',\n",
              " 'Basella Alba/BA-S-032.jpg',\n",
              " 'Basella Alba/BA-S-033.jpg',\n",
              " 'Basella Alba/BA-S-034.jpg',\n",
              " 'Basella Alba/BA-S-035.jpg',\n",
              " 'Basella Alba/BA-S-036.jpg',\n",
              " 'Basella Alba/BA-S-037.jpg',\n",
              " 'Basella Alba/BA-S-038.jpg',\n",
              " 'Basella Alba/BA-S-039.jpg',\n",
              " 'Basella Alba/BA-S-041.jpg',\n",
              " 'Basella Alba/BA-S-042.jpg',\n",
              " 'Basella Alba/BA-S-044.jpg',\n",
              " 'Basella Alba/BA-S-045.jpg',\n",
              " 'Basella Alba/BA-S-046.jpg',\n",
              " 'Basella Alba/BA-S-048.jpg',\n",
              " 'Basella Alba/BA-S-049.jpg',\n",
              " 'Basella Alba/BA-S-053.jpg',\n",
              " 'Basella Alba/BA-S-054.jpg',\n",
              " 'Basella Alba/BA-S-056.jpg',\n",
              " 'Basella Alba/BA-S-057.jpg',\n",
              " 'Basella Alba/BA-S-058.jpg',\n",
              " 'Basella Alba/BA-S-059.jpg',\n",
              " 'Basella Alba/BA-S-060.jpg',\n",
              " 'Basella Alba/BA-S-061.jpg',\n",
              " 'Basella Alba/BA-S-062.jpg',\n",
              " 'Basella Alba/BA-S-063.jpg',\n",
              " 'Basella Alba/BA-S-064.jpg',\n",
              " 'Basella Alba/BA-S-065.jpg',\n",
              " 'Basella Alba/BA-S-066.jpg',\n",
              " 'Basella Alba/BA-S-067.jpg',\n",
              " 'Basella Alba/BA-S-068.jpg',\n",
              " 'Basella Alba/BA-S-070.jpg',\n",
              " 'Basella Alba/BA-S-071.jpg',\n",
              " 'Basella Alba/BA-S-072.jpg',\n",
              " 'Basella Alba/BA-S-073.jpg',\n",
              " 'Basella Alba/BA-S-076.jpg',\n",
              " 'Basella Alba/BA-S-077.jpg',\n",
              " 'Basella Alba/BA-S-078.jpg',\n",
              " 'Basella Alba/BA-S-079.jpg',\n",
              " 'Basella Alba/BA-S-081.jpg',\n",
              " 'Basella Alba/BA-S-083.jpg',\n",
              " 'Basella Alba/BA-S-084.jpg',\n",
              " 'Basella Alba/BA-S-086.jpg',\n",
              " 'Basella Alba/BA-S-087.jpg',\n",
              " 'Basella Alba/BA-S-088.jpg',\n",
              " 'Basella Alba/BA-S-089.jpg',\n",
              " 'Basella Alba/BA-S-092.jpg',\n",
              " 'Basella Alba/BA-S-093.jpg',\n",
              " 'Basella Alba/BA-S-095.jpg',\n",
              " 'Basella Alba/BA-S-098.jpg',\n",
              " 'Basella Alba/BA-S-099.jpg',\n",
              " 'Basella Alba/BA-S-100.jpg',\n",
              " 'Basella Alba/BA-S-101.jpg',\n",
              " 'Basella Alba/BA-S-102.jpg',\n",
              " 'Basella Alba/BA-S-103.jpg',\n",
              " 'Basella Alba/BA-S-105.jpg',\n",
              " 'Basella Alba/BA-S-106.jpg',\n",
              " 'Basella Alba/BA-S-107.jpg',\n",
              " 'Basella Alba/BA-S-108.jpg',\n",
              " 'Basella Alba/BA-S-109.jpg',\n",
              " 'Basella Alba/BA-S-110.jpg',\n",
              " 'Basella Alba/BA-S-111.jpg',\n",
              " 'Basella Alba/BA-S-112.jpg',\n",
              " 'Basella Alba/BA-S-113.jpg',\n",
              " 'Basella Alba/BA-S-114.jpg',\n",
              " 'Basella Alba/BA-S-115.jpg',\n",
              " 'Basella Alba/BA-S-116.jpg',\n",
              " 'Basella Alba/BA-S-117.jpg',\n",
              " 'Basella Alba/BA-S-118.jpg',\n",
              " 'Basella Alba/BA-S-119.jpg',\n",
              " 'Basella Alba/BA-S-121.jpg',\n",
              " 'Basella Alba/BA-S-122.jpg',\n",
              " 'Basella Alba/BA-S-123.jpg',\n",
              " 'Basella Alba/BA-S-124.jpg',\n",
              " 'Basella Alba/BA-S-125.jpg',\n",
              " 'Basella Alba/BA-S-126.jpg',\n",
              " 'Basella Alba/BA-S-127.jpg',\n",
              " 'Basella Alba/BA-S-129.jpg',\n",
              " 'Basella Alba/BA-S-130.jpg',\n",
              " 'Basella Alba/BA-S-131.jpg',\n",
              " 'Basella Alba/BA-S-134.jpg',\n",
              " 'Basella Alba/BA-S-135.jpg',\n",
              " 'Basella Alba/BA-S-136.jpg',\n",
              " 'Basella Alba/BA-S-137.jpg',\n",
              " 'Basella Alba/BA-S-138.jpg',\n",
              " 'Basella Alba/BA-S-139.jpg',\n",
              " 'Basella Alba/BA-S-140.jpg',\n",
              " 'Basella Alba/BA-S-141.jpg',\n",
              " 'Basella Alba/BA-S-142.jpg',\n",
              " 'Basella Alba/BA-S-143.jpg',\n",
              " 'Basella Alba/BA-S-144.jpg',\n",
              " 'Basella Alba/BA-S-145.jpg',\n",
              " 'Basella Alba/BA-S-148.jpg',\n",
              " 'Basella Alba/BA-S-150.jpg',\n",
              " 'Basella Alba/BA-S-151.jpg',\n",
              " 'Basella Alba/BA-S-152.jpg',\n",
              " 'Basella Alba/BA-S-154.jpg',\n",
              " 'Basella Alba/BA-S-155.jpg',\n",
              " 'Basella Alba/BA-S-158.jpg',\n",
              " 'Basella Alba/BA-S-160.jpg',\n",
              " 'Basella Alba/BA-S-162.jpg',\n",
              " 'Basella Alba/BA-S-163.jpg',\n",
              " 'Basella Alba/BA-S-164.jpg',\n",
              " 'Basella Alba/BA-S-165.jpg',\n",
              " 'Basella Alba/BA-S-166.jpg',\n",
              " 'Basella Alba/BA-S-167.jpg',\n",
              " 'Basella Alba/BA-S-168.jpg',\n",
              " 'Basella Alba/BA-S-169.jpg',\n",
              " 'Basella Alba/BA-S-170.jpg',\n",
              " 'Basella Alba/BA-S-171.jpg',\n",
              " 'Basella Alba/BA-S-172.jpg',\n",
              " 'Basella Alba/BA-S-173.jpg',\n",
              " 'Basella Alba/BA-S-174.jpg',\n",
              " 'Basella Alba/BA-S-177.jpg',\n",
              " 'Basella Alba/BA-S-178.jpg',\n",
              " 'Basella Alba/BA-S-179.jpg',\n",
              " 'Basella Alba/BA-S-182.jpg',\n",
              " 'Brassica Juncea/BJ-S-001.jpg',\n",
              " 'Brassica Juncea/BJ-S-002.jpg',\n",
              " 'Brassica Juncea/BJ-S-003.jpg',\n",
              " 'Brassica Juncea/BJ-S-004.jpg',\n",
              " 'Brassica Juncea/BJ-S-005.jpg',\n",
              " 'Brassica Juncea/BJ-S-006.jpg',\n",
              " 'Brassica Juncea/BJ-S-007.jpg',\n",
              " 'Brassica Juncea/BJ-S-008.jpg',\n",
              " 'Brassica Juncea/BJ-S-009.jpg',\n",
              " 'Brassica Juncea/BJ-S-010.jpg',\n",
              " 'Brassica Juncea/BJ-S-014.jpg',\n",
              " 'Brassica Juncea/BJ-S-015.jpg',\n",
              " 'Brassica Juncea/BJ-S-016.jpg',\n",
              " 'Brassica Juncea/BJ-S-017.jpg',\n",
              " 'Brassica Juncea/BJ-S-018.jpg',\n",
              " 'Brassica Juncea/BJ-S-019.jpg',\n",
              " 'Brassica Juncea/BJ-S-020.jpg',\n",
              " 'Brassica Juncea/BJ-S-023.jpg',\n",
              " 'Brassica Juncea/BJ-S-025.jpg',\n",
              " 'Brassica Juncea/BJ-S-027.jpg',\n",
              " 'Brassica Juncea/BJ-S-028.jpg',\n",
              " 'Brassica Juncea/BJ-S-029.jpg',\n",
              " 'Brassica Juncea/BJ-S-030.jpg',\n",
              " 'Brassica Juncea/BJ-S-031.jpg',\n",
              " 'Brassica Juncea/BJ-S-032.jpg',\n",
              " 'Brassica Juncea/BJ-S-033.jpg',\n",
              " 'Brassica Juncea/BJ-S-034.jpg',\n",
              " 'Brassica Juncea/BJ-S-035.jpg',\n",
              " 'Brassica Juncea/BJ-S-036.jpg',\n",
              " 'Brassica Juncea/BJ-S-037.jpg',\n",
              " 'Brassica Juncea/BJ-S-038.jpg',\n",
              " 'Brassica Juncea/BJ-S-040.jpg',\n",
              " 'Brassica Juncea/BJ-S-041.jpg',\n",
              " 'Brassica Juncea/BJ-S-042.jpg',\n",
              " 'Brassica Juncea/BJ-S-043.jpg',\n",
              " 'Brassica Juncea/BJ-S-044.jpg',\n",
              " 'Brassica Juncea/BJ-S-045.jpg',\n",
              " 'Brassica Juncea/BJ-S-046.jpg',\n",
              " 'Brassica Juncea/BJ-S-047.jpg',\n",
              " 'Brassica Juncea/BJ-S-048.jpg',\n",
              " 'Brassica Juncea/BJ-S-049.jpg',\n",
              " 'Brassica Juncea/BJ-S-050.jpg',\n",
              " 'Brassica Juncea/BJ-S-053.jpg',\n",
              " 'Brassica Juncea/BJ-S-054.jpg',\n",
              " 'Brassica Juncea/BJ-S-055.jpg',\n",
              " 'Brassica Juncea/BJ-S-056.jpg',\n",
              " 'Brassica Juncea/BJ-S-057.jpg',\n",
              " 'Brassica Juncea/BJ-S-058.jpg',\n",
              " 'Brassica Juncea/BJ-S-059.jpg',\n",
              " 'Brassica Juncea/BJ-S-060.jpg',\n",
              " 'Brassica Juncea/BJ-S-061.jpg',\n",
              " 'Brassica Juncea/BJ-S-063.jpg',\n",
              " 'Brassica Juncea/BJ-S-064.jpg',\n",
              " 'Brassica Juncea/BJ-S-066.jpg',\n",
              " 'Brassica Juncea/BJ-S-067.jpg',\n",
              " 'Brassica Juncea/BJ-S-068.jpg',\n",
              " 'Brassica Juncea/BJ-S-069.jpg',\n",
              " 'Brassica Juncea/BJ-S-070.jpg',\n",
              " 'Brassica Juncea/BJ-S-206.jpg',\n",
              " 'Brassica Juncea/BJ-S-207.jpeg',\n",
              " 'Brassica Juncea/BJ-S-208.jpeg',\n",
              " 'Brassica Juncea/BJ-S-209.jpeg',\n",
              " 'Brassica Juncea/BJ-S-210.jpeg',\n",
              " 'Brassica Juncea/BJ-S-211.jpeg',\n",
              " 'Brassica Juncea/BJ-S-214.jpeg',\n",
              " 'Brassica Juncea/BJ-S-215.jpeg',\n",
              " 'Brassica Juncea/BJ-S-216.jpeg',\n",
              " 'Brassica Juncea/BJ-S-217.jpeg',\n",
              " 'Brassica Juncea/BJ-S-218.jpeg',\n",
              " 'Brassica Juncea/BJ-S-219.jpeg',\n",
              " 'Brassica Juncea/BJ-S-220.jpeg',\n",
              " 'Brassica Juncea/BJ-S-223.jpeg',\n",
              " 'Brassica Juncea/BJ-S-224.jpeg',\n",
              " 'Brassica Juncea/BJ-S-225.jpeg',\n",
              " 'Brassica Juncea/BJ-S-226.jpeg',\n",
              " 'Brassica Juncea/BJ-S-227.jpeg',\n",
              " 'Brassica Juncea/BJ-S-228.jpeg',\n",
              " 'Brassica Juncea/BJ-S-229.jpeg',\n",
              " 'Brassica Juncea/BJ-S-230.jpeg',\n",
              " 'Brassica Juncea/BJ-S-231.jpeg',\n",
              " 'Brassica Juncea/BJ-S-232.jpeg',\n",
              " 'Brassica Juncea/BJ-S-234.jpeg',\n",
              " 'Brassica Juncea/BJ-S-235.jpeg',\n",
              " 'Brassica Juncea/BJ-S-236.jpeg',\n",
              " 'Brassica Juncea/BJ-S-238.jpeg',\n",
              " 'Brassica Juncea/BJ-S-239.jpeg',\n",
              " 'Brassica Juncea/BJ-S-240.jpeg',\n",
              " 'Brassica Juncea/BJ-S-241.jpeg',\n",
              " 'Brassica Juncea/BJ-S-242.jpeg',\n",
              " 'Brassica Juncea/BJ-S-243.jpeg',\n",
              " 'Brassica Juncea/BJ-S-244.jpeg',\n",
              " 'Brassica Juncea/BJ-S-245.jpeg',\n",
              " 'Brassica Juncea/BJ-S-246.jpeg',\n",
              " 'Brassica Juncea/BJ-S-247.jpeg',\n",
              " 'Brassica Juncea/BJ-S-251.jpeg',\n",
              " 'Brassica Juncea/BJ-S-252.jpeg',\n",
              " 'Brassica Juncea/BJ-S-253.jpeg',\n",
              " 'Brassica Juncea/BJ-S-254.jpeg',\n",
              " 'Brassica Juncea/BJ-S-256.jpeg',\n",
              " 'Brassica Juncea/BJ-S-257.jpeg',\n",
              " 'Brassica Juncea/BJ-S-258.jpeg',\n",
              " 'Brassica Juncea/BJ-S-261.jpeg',\n",
              " 'Brassica Juncea/BJ-S-264.jpeg',\n",
              " 'Brassica Juncea/BJ-S-265.jpeg',\n",
              " 'Brassica Juncea/BJ-S-266.jpeg',\n",
              " 'Brassica Juncea/BJ-S-267.jpeg',\n",
              " 'Brassica Juncea/BJ-S-269.jpeg',\n",
              " 'Brassica Juncea/BJ-S-271.jpeg',\n",
              " 'Brassica Juncea/BJ-S-274.jpeg',\n",
              " 'Brassica Juncea/BJ-S-275.jpeg',\n",
              " 'Brassica Juncea/BJ-S-276.jpeg',\n",
              " 'Brassica Juncea/BJ-S-277.jpeg',\n",
              " 'Brassica Juncea/BJ-S-279.jpeg',\n",
              " 'Brassica Juncea/BJ-S-280.jpeg',\n",
              " 'Brassica Juncea/BJ-S-281.jpeg',\n",
              " 'Brassica Juncea/BJ-S-282.jpeg',\n",
              " 'Brassica Juncea/BJ-S-283.jpeg',\n",
              " 'Brassica Juncea/BJ-S-284.jpeg',\n",
              " 'Brassica Juncea/BJ-S-285.jpeg',\n",
              " 'Brassica Juncea/BJ-S-286.jpeg',\n",
              " 'Brassica Juncea/BJ-S-288.jpeg',\n",
              " 'Brassica Juncea/BJ-S-289.jpeg',\n",
              " 'Brassica Juncea/BJ-S-290.jpeg',\n",
              " 'Brassica Juncea/BJ-S-291.jpeg',\n",
              " 'Brassica Juncea/BJ-S-292.jpeg',\n",
              " 'Brassica Juncea/BJ-S-293.jpeg',\n",
              " 'Brassica Juncea/BJ-S-294.jpeg',\n",
              " 'Brassica Juncea/BJ-S-295.jpeg',\n",
              " 'Brassica Juncea/BJ-S-296.jpeg',\n",
              " 'Brassica Juncea/BJ-S-297.jpeg',\n",
              " 'Brassica Juncea/BJ-S-298.jpeg',\n",
              " 'Brassica Juncea/BJ-S-300.jpeg',\n",
              " 'Brassica Juncea/BJ-S-301.jpeg',\n",
              " 'Brassica Juncea/BJ-S-302.jpeg',\n",
              " 'Brassica Juncea/BJ-S-303.jpeg',\n",
              " 'Brassica Juncea/BJ-S-305.jpeg',\n",
              " 'Brassica Juncea/BJ-S-307.jpeg',\n",
              " 'Brassica Juncea/BJ-S-308.jpeg',\n",
              " 'Brassica Juncea/BJ-S-309.jpeg',\n",
              " 'Brassica Juncea/BJ-S-310.jpeg',\n",
              " 'Brassica Juncea/BJ-S-311.jpeg',\n",
              " 'Brassica Juncea/BJ-S-312.jpeg',\n",
              " 'Brassica Juncea/BJ-S-313.jpeg',\n",
              " 'Brassica Juncea/BJ-S-315.jpeg',\n",
              " 'Brassica Juncea/BJ-S-317.jpeg',\n",
              " 'Brassica Juncea/BJ-S-318.jpeg',\n",
              " 'Brassica Juncea/BJ-S-321.jpeg',\n",
              " 'Brassica Juncea/BJ-S-322.jpeg',\n",
              " 'Brassica Juncea/BJ-S-323.jpeg',\n",
              " 'Brassica Juncea/BJ-S-324.jpeg',\n",
              " 'Brassica Juncea/BJ-S-325.jpeg',\n",
              " 'Brassica Juncea/BJ-S-326.jpeg',\n",
              " 'Brassica Juncea/BJ-S-327.jpeg',\n",
              " 'Brassica Juncea/BJ-S-329.jpeg',\n",
              " 'Brassica Juncea/BJ-S-330.jpeg',\n",
              " 'Brassica Juncea/BJ-S-331.jpeg',\n",
              " 'Brassica Juncea/BJ-S-333.jpeg',\n",
              " 'Brassica Juncea/BJ-S-334.jpeg',\n",
              " 'Brassica Juncea/BJ-S-335.jpeg',\n",
              " 'Brassica Juncea/BJ-S-336.jpeg',\n",
              " 'Brassica Juncea/BJ-S-337.jpeg',\n",
              " 'Brassica Juncea/BJ-S-339.jpeg',\n",
              " 'Brassica Juncea/BJ-S-340.jpeg',\n",
              " 'Carissa Carandas/CC-S-001.jpg',\n",
              " 'Carissa Carandas/CC-S-002.jpg',\n",
              " 'Carissa Carandas/CC-S-003.jpg',\n",
              " 'Carissa Carandas/CC-S-004.jpg',\n",
              " 'Carissa Carandas/CC-S-005.jpg',\n",
              " 'Carissa Carandas/CC-S-006.jpg',\n",
              " 'Carissa Carandas/CC-S-007.jpg',\n",
              " 'Carissa Carandas/CC-S-008.jpg',\n",
              " 'Carissa Carandas/CC-S-009.jpg',\n",
              " 'Carissa Carandas/CC-S-010.jpg',\n",
              " 'Carissa Carandas/CC-S-011.jpg',\n",
              " 'Carissa Carandas/CC-S-012.jpg',\n",
              " 'Carissa Carandas/CC-S-013.jpg',\n",
              " 'Carissa Carandas/CC-S-015.jpg',\n",
              " 'Carissa Carandas/CC-S-016.jpg',\n",
              " 'Carissa Carandas/CC-S-017.jpg',\n",
              " 'Carissa Carandas/CC-S-019.jpg',\n",
              " 'Carissa Carandas/CC-S-020.jpg',\n",
              " 'Carissa Carandas/CC-S-021.jpg',\n",
              " 'Carissa Carandas/CC-S-022.jpg',\n",
              " 'Carissa Carandas/CC-S-024.jpg',\n",
              " 'Carissa Carandas/CC-S-025.jpg',\n",
              " 'Carissa Carandas/CC-S-026.jpg',\n",
              " 'Carissa Carandas/CC-S-030.jpg',\n",
              " 'Carissa Carandas/CC-S-031.jpg',\n",
              " 'Carissa Carandas/CC-S-032.jpg',\n",
              " 'Carissa Carandas/CC-S-033.jpg',\n",
              " 'Carissa Carandas/CC-S-034.jpg',\n",
              " 'Carissa Carandas/CC-S-035.jpg',\n",
              " 'Carissa Carandas/CC-S-036.jpg',\n",
              " 'Carissa Carandas/CC-S-037.jpg',\n",
              " 'Carissa Carandas/CC-S-038.jpg',\n",
              " 'Carissa Carandas/CC-S-039.jpg',\n",
              " 'Carissa Carandas/CC-S-040.jpg',\n",
              " 'Carissa Carandas/CC-S-043.jpg',\n",
              " 'Carissa Carandas/CC-S-045.jpg',\n",
              " 'Carissa Carandas/CC-S-046.jpg',\n",
              " 'Carissa Carandas/CC-S-047.jpg',\n",
              " 'Carissa Carandas/CC-S-049.jpg',\n",
              " 'Carissa Carandas/CC-S-050.jpg',\n",
              " 'Carissa Carandas/CC-S-053.jpg',\n",
              " 'Carissa Carandas/CC-S-055.jpg',\n",
              " 'Carissa Carandas/CC-S-056.jpg',\n",
              " 'Carissa Carandas/CC-S-057.jpg',\n",
              " 'Carissa Carandas/CC-S-058.jpg',\n",
              " 'Carissa Carandas/CC-S-059.jpg',\n",
              " 'Carissa Carandas/CC-S-060.jpg',\n",
              " 'Carissa Carandas/CC-S-061.jpg',\n",
              " 'Carissa Carandas/CC-S-062.jpg',\n",
              " 'Carissa Carandas/CC-S-063.jpg',\n",
              " 'Carissa Carandas/CC-S-064.jpg',\n",
              " 'Carissa Carandas/CC-S-065.jpg',\n",
              " 'Carissa Carandas/CC-S-066.jpg',\n",
              " 'Carissa Carandas/CC-S-067.jpg',\n",
              " 'Carissa Carandas/CC-S-068.jpg',\n",
              " 'Carissa Carandas/CC-S-069.jpg',\n",
              " 'Carissa Carandas/CC-S-071.jpg',\n",
              " 'Carissa Carandas/CC-S-072.jpg',\n",
              " 'Carissa Carandas/CC-S-073.jpg',\n",
              " 'Carissa Carandas/CC-S-076.jpg',\n",
              " 'Carissa Carandas/CC-S-077.jpg',\n",
              " 'Carissa Carandas/CC-S-078.jpg',\n",
              " 'Carissa Carandas/CC-S-079.jpg',\n",
              " 'Carissa Carandas/CC-S-080.jpg',\n",
              " 'Carissa Carandas/CC-S-081.jpg',\n",
              " 'Carissa Carandas/CC-S-082.jpg',\n",
              " 'Carissa Carandas/CC-S-083.jpg',\n",
              " 'Carissa Carandas/CC-S-084.jpg',\n",
              " 'Carissa Carandas/CC-S-085.jpg',\n",
              " 'Carissa Carandas/CC-S-086.jpg',\n",
              " 'Carissa Carandas/CC-S-087.jpg',\n",
              " 'Carissa Carandas/CC-S-088.jpg',\n",
              " 'Carissa Carandas/CC-S-091.jpg',\n",
              " 'Carissa Carandas/CC-S-092.jpg',\n",
              " 'Carissa Carandas/CC-S-093.jpg',\n",
              " 'Carissa Carandas/CC-S-094.jpg',\n",
              " 'Carissa Carandas/CC-S-095.jpg',\n",
              " 'Carissa Carandas/CC-S-096.jpg',\n",
              " 'Carissa Carandas/CC-S-097.jpg',\n",
              " 'Carissa Carandas/CC-S-099.jpg',\n",
              " 'Carissa Carandas/CC-S-100.jpg',\n",
              " 'Carissa Carandas/CC-S-101.jpg',\n",
              " 'Carissa Carandas/CC-S-102.jpg',\n",
              " 'Carissa Carandas/CC-S-104.jpg',\n",
              " 'Carissa Carandas/CC-S-105.jpg',\n",
              " 'Carissa Carandas/CC-S-106.jpg',\n",
              " 'Carissa Carandas/CC-S-107.jpg',\n",
              " 'Carissa Carandas/CC-S-108.jpg',\n",
              " 'Carissa Carandas/CC-S-109.jpg',\n",
              " 'Carissa Carandas/CC-S-110.jpg',\n",
              " 'Carissa Carandas/CC-S-111.jpg',\n",
              " 'Carissa Carandas/CC-S-112.jpg',\n",
              " 'Carissa Carandas/CC-S-113.jpg',\n",
              " 'Carissa Carandas/CC-S-114.jpg',\n",
              " 'Carissa Carandas/CC-S-115.jpg',\n",
              " 'Carissa Carandas/CC-S-117.jpg',\n",
              " 'Carissa Carandas/CC-S-118.jpg',\n",
              " 'Carissa Carandas/CC-S-120.jpg',\n",
              " 'Carissa Carandas/CC-S-121.jpg',\n",
              " 'Carissa Carandas/CC-S-122.jpg',\n",
              " 'Carissa Carandas/CC-S-124.jpg',\n",
              " 'Carissa Carandas/CC-S-125.jpg',\n",
              " 'Carissa Carandas/CC-S-129.jpg',\n",
              " 'Carissa Carandas/CC-S-130.jpg',\n",
              " 'Carissa Carandas/CC-S-132.jpg',\n",
              " ...]"
            ]
          },
          "metadata": {},
          "execution_count": 48
        }
      ],
      "source": [
        "train_dataset.filenames"
      ]
    },
    {
      "cell_type": "code",
      "execution_count": null,
      "metadata": {
        "colab": {
          "base_uri": "https://localhost:8080/"
        },
        "id": "pWMhzkwJz3vd",
        "outputId": "fa0e73d7-d6bf-4f4d-8a3f-8cf122e489e0"
      },
      "outputs": [
        {
          "output_type": "execute_result",
          "data": {
            "text/plain": [
              "{'Alpinia Galanga': 0,\n",
              " 'Amaranthus Viridis': 1,\n",
              " 'Artocarpus Heterophyllus': 2,\n",
              " 'Azadirachta Indica': 3,\n",
              " 'Basella Alba': 4,\n",
              " 'Brassica Juncea': 5,\n",
              " 'Carissa Carandas': 6,\n",
              " 'Citrus Limon': 7,\n",
              " 'Ficus Auriculata': 8,\n",
              " 'Ficus Religiosa': 9,\n",
              " 'Hibiscus Rosa': 10,\n",
              " 'Jasminum': 11,\n",
              " 'Mangifera Indica': 12,\n",
              " 'Mentha Piperita': 13,\n",
              " 'Moringa Oleifera': 14,\n",
              " 'Muntingia Calabura': 15,\n",
              " 'Murraya Koenigii': 16,\n",
              " 'Nerium Oleander': 17,\n",
              " 'Nyctanthes Arbor Tristis': 18,\n",
              " 'Ocimum Tenuiflorum': 19,\n",
              " 'Piper Betle': 20,\n",
              " 'Plectranthus Amboinicus': 21,\n",
              " 'Pongamia Pinnata': 22,\n",
              " 'Psidium Guajava': 23,\n",
              " 'Punica Granatum': 24,\n",
              " 'Santalum Album': 25,\n",
              " 'Syzygium Cumini': 26,\n",
              " 'Syzygium Jambos': 27,\n",
              " 'Tabernaemontana Divaricata': 28,\n",
              " 'Trigonella Foenum Graecum': 29}"
            ]
          },
          "metadata": {},
          "execution_count": 49
        }
      ],
      "source": [
        "validation_dataset.class_indices"
      ]
    },
    {
      "cell_type": "code",
      "execution_count": null,
      "metadata": {
        "id": "YjOnfLEwz5OB"
      },
      "outputs": [],
      "source": [
        "# Plot the validation and training curves separately\n",
        "def plot_loss_curves(history):\n",
        "    \"\"\"\n",
        "    Returns separate loss curves for training and validation metrics\n",
        "    \"\"\"\n",
        "    loss = history.history['loss']\n",
        "\n",
        "\n",
        "    accuracy = history.history['accuracy']\n",
        "\n",
        "\n",
        "    epochs = range(len(history.history['loss'])) # How many epochs\n",
        "\n",
        "\n",
        "    # Plot loss\n",
        "    plt.plot(epochs, loss, label=\"training_loss\")\n",
        "\n",
        "    plt.title(\"loss\")\n",
        "    plt.xlabel(\"epochs\")\n",
        "    plt.legend()\n",
        "\n",
        "    # Plot accuracy\n",
        "    plt.figure()\n",
        "    plt.plot(epochs, accuracy, label=\"training_accuracy\")\n",
        "\n",
        "    plt.title(\"accuracy\")\n",
        "    plt.xlabel(\"epochs\")\n",
        "    plt.legend()"
      ]
    },
    {
      "cell_type": "code",
      "execution_count": null,
      "metadata": {
        "id": "JDsRMS2Ez_ui"
      },
      "outputs": [],
      "source": [
        "class DurationCallback(tf.keras.callbacks.Callback):\n",
        "    def on_epoch_begin(self, epoch, logs=None):\n",
        "        self.start_time = tf.timestamp()\n",
        "\n",
        "    def on_epoch_end(self, epoch, logs=None):\n",
        "        end_time = tf.timestamp()\n",
        "        duration = end_time - self.start_time\n",
        "        logs['duration'] = duration.numpy()\n",
        "duration_callback = DurationCallback()"
      ]
    },
    {
      "cell_type": "code",
      "execution_count": null,
      "metadata": {
        "id": "aJxikgVy0JKL"
      },
      "outputs": [],
      "source": [
        "def find_the_value(arr):\n",
        "    a =  train_dataset.class_indices\n",
        "\n",
        "    arr = arr.flatten()\n",
        "    maxs_index = np.argmax(arr)\n",
        "\n",
        "\n",
        "\n",
        "    for x,y in a.items():\n",
        "        if y == maxs_index:\n",
        "            return x"
      ]
    },
    {
      "cell_type": "markdown",
      "metadata": {
        "id": "NJwvQZ7k2U6o"
      },
      "source": [
        "# Model Deep Learn"
      ]
    },
    {
      "cell_type": "markdown",
      "metadata": {
        "id": "ykjEB6Cj2TG6"
      },
      "source": [
        "## VGG16"
      ]
    },
    {
      "cell_type": "code",
      "execution_count": null,
      "metadata": {
        "colab": {
          "base_uri": "https://localhost:8080/"
        },
        "id": "QVyKY7yC0YGj",
        "outputId": "bdf75e35-f486-4394-f28a-998307a12a53"
      },
      "outputs": [
        {
          "output_type": "stream",
          "name": "stdout",
          "text": [
            "Model: \"VGG16\"\n",
            "_________________________________________________________________\n",
            " Layer (type)                Output Shape              Param #   \n",
            "=================================================================\n",
            " input_18 (InputLayer)       [(None, 224, 224, 3)]     0         \n",
            "                                                                 \n",
            " vgg16 (Functional)          (None, None, None, 512)   14714688  \n",
            "                                                                 \n",
            " global_average_pooling2d_8  (None, 512)               0         \n",
            "  (GlobalAveragePooling2D)                                       \n",
            "                                                                 \n",
            " flatten_8 (Flatten)         (None, 512)               0         \n",
            "                                                                 \n",
            " dense_16 (Dense)            (None, 512)               262656    \n",
            "                                                                 \n",
            " dense_17 (Dense)            (None, 30)                15390     \n",
            "                                                                 \n",
            "=================================================================\n",
            "Total params: 14992734 (57.19 MB)\n",
            "Trainable params: 14992734 (57.19 MB)\n",
            "Non-trainable params: 0 (0.00 Byte)\n",
            "_________________________________________________________________\n"
          ]
        }
      ],
      "source": [
        "\n",
        "model_VGG16=tf.keras.applications.vgg16.VGG16(\n",
        "    include_top=False,\n",
        "    weights='imagenet',\n",
        "    input_tensor=None,\n",
        "    input_shape=None,\n",
        "    pooling=None\n",
        ")\n",
        "model_VGG16.trainable = True\n",
        "input = tf.keras.layers.Input(shape=(224, 224, 3))\n",
        "x = model_VGG16(input, training=True)\n",
        "x = tf.keras.layers.GlobalAveragePooling2D()(x)  # Use global pooling to handle any size\n",
        "x = tf.keras.layers.Flatten()(x)\n",
        "x = tf.keras.layers.Dense(512, activation = 'relu')(x)\n",
        "x = tf.keras.layers.Dense(30, activation = 'softmax')(x)\n",
        "model_VGG16 = tf.keras.models.Model(inputs = input, outputs = x, name = \"VGG16\")\n",
        "\n",
        "model_VGG16.summary()"
      ]
    },
    {
      "cell_type": "markdown",
      "metadata": {
        "id": "0z6bG-642QtZ"
      },
      "source": [
        "## Resnet50V2"
      ]
    },
    {
      "cell_type": "code",
      "execution_count": null,
      "metadata": {
        "colab": {
          "base_uri": "https://localhost:8080/"
        },
        "id": "xB85UMLa0Zss",
        "outputId": "5a2d83d4-28a2-46b2-c72f-1b346cd27b8d"
      },
      "outputs": [
        {
          "output_type": "stream",
          "name": "stdout",
          "text": [
            "Model: \"ResNet50V2\"\n",
            "_________________________________________________________________\n",
            " Layer (type)                Output Shape              Param #   \n",
            "=================================================================\n",
            " input_20 (InputLayer)       [(None, 224, 224, 3)]     0         \n",
            "                                                                 \n",
            " resnet50v2 (Functional)     (None, None, None, 2048   23564800  \n",
            "                             )                                   \n",
            "                                                                 \n",
            " global_average_pooling2d_9  (None, 2048)              0         \n",
            "  (GlobalAveragePooling2D)                                       \n",
            "                                                                 \n",
            " flatten_9 (Flatten)         (None, 2048)              0         \n",
            "                                                                 \n",
            " dense_18 (Dense)            (None, 512)               1049088   \n",
            "                                                                 \n",
            " dense_19 (Dense)            (None, 30)                15390     \n",
            "                                                                 \n",
            "=================================================================\n",
            "Total params: 24629278 (93.95 MB)\n",
            "Trainable params: 24583838 (93.78 MB)\n",
            "Non-trainable params: 45440 (177.50 KB)\n",
            "_________________________________________________________________\n"
          ]
        }
      ],
      "source": [
        "\n",
        "model_RESNET50V2 = tf.keras.applications.ResNet50V2(\n",
        "    include_top=False,\n",
        "    weights='imagenet',\n",
        "    input_tensor=None,\n",
        "    input_shape=None,\n",
        "    pooling=None\n",
        ")\n",
        "model_RESNET50V2.trainable = True\n",
        "input = tf.keras.layers.Input(shape=(224, 224, 3))\n",
        "\n",
        "x = model_RESNET50V2(input, training=True)\n",
        "x = tf.keras.layers.GlobalAveragePooling2D()(x)  # Use global pooling to handle any size\n",
        "x = tf.keras.layers.Flatten()(x)\n",
        "x = tf.keras.layers.Dense(512, activation = 'relu')(x)\n",
        "x = tf.keras.layers.Dense(30, activation = 'softmax')(x)\n",
        "model_RESNET50V2 = tf.keras.models.Model(inputs = input, outputs = x, name = \"ResNet50V2\")\n",
        "\n",
        "model_RESNET50V2.summary()"
      ]
    },
    {
      "cell_type": "markdown",
      "metadata": {
        "id": "kGhBrj0j2NrQ"
      },
      "source": [
        "## DenseNet201"
      ]
    },
    {
      "cell_type": "code",
      "execution_count": null,
      "metadata": {
        "colab": {
          "base_uri": "https://localhost:8080/"
        },
        "id": "z5lGmt9j0bnO",
        "outputId": "09a6e3b5-d80c-4126-990c-a95cb74d8a46"
      },
      "outputs": [
        {
          "output_type": "stream",
          "name": "stdout",
          "text": [
            "Model: \"DenseNet201\"\n",
            "_________________________________________________________________\n",
            " Layer (type)                Output Shape              Param #   \n",
            "=================================================================\n",
            " input_22 (InputLayer)       [(None, 224, 224, 3)]     0         \n",
            "                                                                 \n",
            " densenet201 (Functional)    (None, None, None, 1920   18321984  \n",
            "                             )                                   \n",
            "                                                                 \n",
            " global_average_pooling2d_1  (None, 1920)              0         \n",
            " 0 (GlobalAveragePooling2D)                                      \n",
            "                                                                 \n",
            " flatten_10 (Flatten)        (None, 1920)              0         \n",
            "                                                                 \n",
            " dense_20 (Dense)            (None, 512)               983552    \n",
            "                                                                 \n",
            " dense_21 (Dense)            (None, 30)                15390     \n",
            "                                                                 \n",
            "=================================================================\n",
            "Total params: 19320926 (73.70 MB)\n",
            "Trainable params: 19091870 (72.83 MB)\n",
            "Non-trainable params: 229056 (894.75 KB)\n",
            "_________________________________________________________________\n"
          ]
        }
      ],
      "source": [
        "\n",
        "model_DenseNet201 = tf.keras.applications.DenseNet201(\n",
        "    include_top=False,\n",
        "    weights='imagenet',\n",
        "    input_tensor=None,\n",
        "    input_shape=None,\n",
        "    pooling=None\n",
        ")\n",
        "\n",
        "model_DenseNet201.trainable = True\n",
        "input = tf.keras.layers.Input(shape=(224, 224, 3))\n",
        "\n",
        "x = model_DenseNet201(input, training=True)\n",
        "x = tf.keras.layers.GlobalAveragePooling2D()(x)  # Global average pooling to reduce spatial dimensions\n",
        "x = tf.keras.layers.Flatten()(x)\n",
        "x = tf.keras.layers.Dense(512, activation = 'relu')(x)\n",
        "x = tf.keras.layers.Dense(30, activation = 'softmax')(x)\n",
        "model_DenseNet201 = tf.keras.models.Model(inputs = input, outputs = x, name = \"DenseNet201\")\n",
        "\n",
        "model_DenseNet201.summary()"
      ]
    },
    {
      "cell_type": "markdown",
      "metadata": {
        "id": "bzsdr7fl2MOC"
      },
      "source": [
        "## VGG19"
      ]
    },
    {
      "cell_type": "code",
      "execution_count": null,
      "metadata": {
        "colab": {
          "base_uri": "https://localhost:8080/"
        },
        "id": "fB1TgkFc0hqd",
        "outputId": "1d6ab2d9-e1b5-42f2-9cf7-b18b5d1a55d7"
      },
      "outputs": [
        {
          "output_type": "stream",
          "name": "stdout",
          "text": [
            "Model: \"VGG19\"\n",
            "_________________________________________________________________\n",
            " Layer (type)                Output Shape              Param #   \n",
            "=================================================================\n",
            " input_24 (InputLayer)       [(None, 224, 224, 3)]     0         \n",
            "                                                                 \n",
            " vgg19 (Functional)          (None, None, None, 512)   20024384  \n",
            "                                                                 \n",
            " global_average_pooling2d_1  (None, 512)               0         \n",
            " 1 (GlobalAveragePooling2D)                                      \n",
            "                                                                 \n",
            " flatten_11 (Flatten)        (None, 512)               0         \n",
            "                                                                 \n",
            " dense_22 (Dense)            (None, 512)               262656    \n",
            "                                                                 \n",
            " dense_23 (Dense)            (None, 30)                15390     \n",
            "                                                                 \n",
            "=================================================================\n",
            "Total params: 20302430 (77.45 MB)\n",
            "Trainable params: 20302430 (77.45 MB)\n",
            "Non-trainable params: 0 (0.00 Byte)\n",
            "_________________________________________________________________\n"
          ]
        }
      ],
      "source": [
        "\n",
        "\n",
        "model_VGG19 = tf.keras.applications.VGG19(\n",
        "    include_top=False,\n",
        "    weights='imagenet',\n",
        "    input_tensor=None,\n",
        "    input_shape=None,\n",
        "    pooling=None\n",
        ")\n",
        "\n",
        "model_VGG19.trainable = True\n",
        "input = tf.keras.layers.Input(shape=(224, 224, 3))\n",
        "\n",
        "x = model_VGG19(input, training=True)\n",
        "x = tf.keras.layers.GlobalAveragePooling2D()(x)  # Global average pooling to reduce spatial dimensions\n",
        "x = tf.keras.layers.Flatten()(x)\n",
        "x = tf.keras.layers.Dense(512, activation = 'relu')(x)\n",
        "x = tf.keras.layers.Dense(30, activation = 'softmax')(x)\n",
        "model_VGG19 = tf.keras.models.Model(inputs = input, outputs = x, name = \"VGG19\")\n",
        "\n",
        "model_VGG19.summary()\n"
      ]
    },
    {
      "cell_type": "markdown",
      "metadata": {
        "id": "HQuDSBTo2J9X"
      },
      "source": [
        "## Inception V3"
      ]
    },
    {
      "cell_type": "code",
      "execution_count": null,
      "metadata": {
        "colab": {
          "base_uri": "https://localhost:8080/"
        },
        "id": "ZcMsFhI_0kJ4",
        "outputId": "af3a512f-a1ae-43a2-dbc5-99ab81acc0c4"
      },
      "outputs": [
        {
          "output_type": "stream",
          "name": "stdout",
          "text": [
            "Model: \"InceptionV3\"\n",
            "_________________________________________________________________\n",
            " Layer (type)                Output Shape              Param #   \n",
            "=================================================================\n",
            " input_26 (InputLayer)       [(None, 224, 224, 3)]     0         \n",
            "                                                                 \n",
            " inception_v3 (Functional)   (None, None, None, 2048   21802784  \n",
            "                             )                                   \n",
            "                                                                 \n",
            " global_average_pooling2d_1  (None, 2048)              0         \n",
            " 2 (GlobalAveragePooling2D)                                      \n",
            "                                                                 \n",
            " flatten_12 (Flatten)        (None, 2048)              0         \n",
            "                                                                 \n",
            " dense_24 (Dense)            (None, 512)               1049088   \n",
            "                                                                 \n",
            " dense_25 (Dense)            (None, 30)                15390     \n",
            "                                                                 \n",
            "=================================================================\n",
            "Total params: 22867262 (87.23 MB)\n",
            "Trainable params: 22832830 (87.10 MB)\n",
            "Non-trainable params: 34432 (134.50 KB)\n",
            "_________________________________________________________________\n"
          ]
        }
      ],
      "source": [
        "\n",
        "model_InceptionV3 = tf.keras.applications.InceptionV3(\n",
        "    include_top=False,\n",
        "    weights='imagenet',\n",
        "    input_tensor=None,\n",
        "    input_shape=None,\n",
        "    pooling=None\n",
        ")\n",
        "\n",
        "model_InceptionV3.trainable = True\n",
        "input = tf.keras.layers.Input(shape=(224, 224, 3))\n",
        "\n",
        "x = model_InceptionV3(input, training=True)\n",
        "x = tf.keras.layers.GlobalAveragePooling2D()(x)  # Global average pooling to reduce spatial dimensions\n",
        "x = tf.keras.layers.Flatten()(x)\n",
        "x = tf.keras.layers.Dense(512, activation = 'relu')(x)\n",
        "x = tf.keras.layers.Dense(30, activation = 'softmax')(x)\n",
        "model_InceptionV3 = tf.keras.models.Model(inputs = input, outputs = x, name = \"InceptionV3\")\n",
        "\n",
        "model_InceptionV3.summary()"
      ]
    },
    {
      "cell_type": "markdown",
      "metadata": {
        "id": "P5sht4pa19ZO"
      },
      "source": [
        "## Xception"
      ]
    },
    {
      "cell_type": "code",
      "execution_count": null,
      "metadata": {
        "colab": {
          "base_uri": "https://localhost:8080/"
        },
        "id": "qKAuN0cE0ma2",
        "outputId": "af446235-1376-417c-e7a7-ff03383f4789"
      },
      "outputs": [
        {
          "output_type": "stream",
          "name": "stdout",
          "text": [
            "Model: \"Xception\"\n",
            "_________________________________________________________________\n",
            " Layer (type)                Output Shape              Param #   \n",
            "=================================================================\n",
            " input_28 (InputLayer)       [(None, 224, 224, 3)]     0         \n",
            "                                                                 \n",
            " xception (Functional)       (None, None, None, 2048   20861480  \n",
            "                             )                                   \n",
            "                                                                 \n",
            " global_average_pooling2d_1  (None, 2048)              0         \n",
            " 3 (GlobalAveragePooling2D)                                      \n",
            "                                                                 \n",
            " flatten_13 (Flatten)        (None, 2048)              0         \n",
            "                                                                 \n",
            " dense_26 (Dense)            (None, 512)               1049088   \n",
            "                                                                 \n",
            " dense_27 (Dense)            (None, 30)                15390     \n",
            "                                                                 \n",
            "=================================================================\n",
            "Total params: 21925958 (83.64 MB)\n",
            "Trainable params: 21871430 (83.43 MB)\n",
            "Non-trainable params: 54528 (213.00 KB)\n",
            "_________________________________________________________________\n"
          ]
        }
      ],
      "source": [
        "\n",
        "model_Xception = tf.keras.applications.Xception(\n",
        "    include_top=False,\n",
        "    weights='imagenet',\n",
        "    input_tensor=None,\n",
        "    input_shape=None,\n",
        "    pooling=None\n",
        ")\n",
        "\n",
        "model_Xception.trainable = True\n",
        "input = tf.keras.layers.Input(shape=(224, 224, 3))\n",
        "\n",
        "x = model_Xception(input, training=True)\n",
        "x = tf.keras.layers.GlobalAveragePooling2D()(x)  # Global average pooling to reduce spatial dimensions\n",
        "x = tf.keras.layers.Flatten()(x)\n",
        "x = tf.keras.layers.Dense(512, activation = 'relu')(x)\n",
        "x = tf.keras.layers.Dense(30, activation = 'softmax')(x)\n",
        "model_Xception = tf.keras.models.Model(inputs = input, outputs = x, name = \"Xception\")\n",
        "\n",
        "model_Xception.summary()"
      ]
    },
    {
      "cell_type": "markdown",
      "metadata": {
        "id": "dzc34t2J16vP"
      },
      "source": [
        "## InceptionResNetV2"
      ]
    },
    {
      "cell_type": "code",
      "execution_count": null,
      "metadata": {
        "colab": {
          "base_uri": "https://localhost:8080/"
        },
        "id": "YpZBeZOn0o5Q",
        "outputId": "4f697271-dfbd-4233-b3ba-bb402f9c0cb5"
      },
      "outputs": [
        {
          "output_type": "stream",
          "name": "stdout",
          "text": [
            "Model: \"InceptionResNetV2\"\n",
            "_________________________________________________________________\n",
            " Layer (type)                Output Shape              Param #   \n",
            "=================================================================\n",
            " input_30 (InputLayer)       [(None, 224, 224, 3)]     0         \n",
            "                                                                 \n",
            " inception_resnet_v2 (Funct  (None, None, None, 1536   54336736  \n",
            " ional)                      )                                   \n",
            "                                                                 \n",
            " global_average_pooling2d_1  (None, 1536)              0         \n",
            " 4 (GlobalAveragePooling2D)                                      \n",
            "                                                                 \n",
            " flatten_14 (Flatten)        (None, 1536)              0         \n",
            "                                                                 \n",
            " dense_28 (Dense)            (None, 512)               786944    \n",
            "                                                                 \n",
            " dense_29 (Dense)            (None, 30)                15390     \n",
            "                                                                 \n",
            "=================================================================\n",
            "Total params: 55139070 (210.34 MB)\n",
            "Trainable params: 55078526 (210.11 MB)\n",
            "Non-trainable params: 60544 (236.50 KB)\n",
            "_________________________________________________________________\n"
          ]
        }
      ],
      "source": [
        "\n",
        "model_InceptionResNetV2 = tf.keras.applications.InceptionResNetV2(\n",
        "    include_top=False,\n",
        "    weights='imagenet',\n",
        "    input_tensor=None,\n",
        "    input_shape=None,\n",
        "    pooling=None\n",
        ")\n",
        "\n",
        "model_InceptionResNetV2.trainable = True\n",
        "input = tf.keras.layers.Input(shape=(224, 224, 3))\n",
        "\n",
        "x = model_InceptionResNetV2(input, training=True)\n",
        "x = tf.keras.layers.GlobalAveragePooling2D()(x)  # Global average pooling to reduce spatial dimensions\n",
        "x = tf.keras.layers.Flatten()(x)\n",
        "x = tf.keras.layers.Dense(512, activation = 'relu')(x)\n",
        "x = tf.keras.layers.Dense(30, activation = 'softmax')(x)\n",
        "model_InceptionResNetV2 = tf.keras.models.Model(inputs = input, outputs = x, name = \"InceptionResNetV2\")\n",
        "\n",
        "model_InceptionResNetV2.summary()"
      ]
    },
    {
      "cell_type": "markdown",
      "metadata": {
        "id": "YldfQFUL13Xw"
      },
      "source": [
        "## MobileNetV3 Large"
      ]
    },
    {
      "cell_type": "code",
      "execution_count": null,
      "metadata": {
        "colab": {
          "base_uri": "https://localhost:8080/"
        },
        "id": "uApBMxq_0sNL",
        "outputId": "857d7d88-b9f9-4ae3-99fb-4db577d8dc7d"
      },
      "outputs": [
        {
          "output_type": "stream",
          "name": "stderr",
          "text": [
            "WARNING:tensorflow:`input_shape` is undefined or non-square, or `rows` is not 224. Weights for input shape (224, 224) will be loaded as the default.\n"
          ]
        },
        {
          "output_type": "stream",
          "name": "stdout",
          "text": [
            "Model: \"InceptionResNetV2\"\n",
            "_________________________________________________________________\n",
            " Layer (type)                Output Shape              Param #   \n",
            "=================================================================\n",
            " input_32 (InputLayer)       [(None, 224, 224, 3)]     0         \n",
            "                                                                 \n",
            " MobilenetV3large (Function  (None, None, None, 960)   2996352   \n",
            " al)                                                             \n",
            "                                                                 \n",
            " global_average_pooling2d_1  (None, 960)               0         \n",
            " 5 (GlobalAveragePooling2D)                                      \n",
            "                                                                 \n",
            " flatten_15 (Flatten)        (None, 960)               0         \n",
            "                                                                 \n",
            " dense_30 (Dense)            (None, 512)               492032    \n",
            "                                                                 \n",
            " dense_31 (Dense)            (None, 30)                15390     \n",
            "                                                                 \n",
            "=================================================================\n",
            "Total params: 3503774 (13.37 MB)\n",
            "Trainable params: 3479374 (13.27 MB)\n",
            "Non-trainable params: 24400 (95.31 KB)\n",
            "_________________________________________________________________\n"
          ]
        }
      ],
      "source": [
        "\n",
        "model_MobileNetV3Large = tf.keras.applications.MobileNetV3Large(\n",
        "    include_top=False,\n",
        "    weights='imagenet',\n",
        "    input_tensor=None,\n",
        "    input_shape=None,\n",
        "    pooling=None\n",
        ")\n",
        "\n",
        "model_MobileNetV3Large.trainable = True\n",
        "input = tf.keras.layers.Input(shape=(224, 224, 3))\n",
        "\n",
        "x = model_MobileNetV3Large(input, training=True)\n",
        "x = tf.keras.layers.GlobalAveragePooling2D()(x)  # Global average pooling to reduce spatial dimensions\n",
        "x = tf.keras.layers.Flatten()(x)\n",
        "x = tf.keras.layers.Dense(512, activation = 'relu')(x)\n",
        "x = tf.keras.layers.Dense(30, activation = 'softmax')(x)\n",
        "model_MobileNetV3Large = tf.keras.models.Model(inputs = input, outputs = x, name = \"InceptionResNetV2\")\n",
        "\n",
        "model_MobileNetV3Large.summary()"
      ]
    },
    {
      "cell_type": "markdown",
      "metadata": {
        "id": "A-y09RhD2mHm"
      },
      "source": [
        "# Compile Model"
      ]
    },
    {
      "cell_type": "code",
      "execution_count": null,
      "metadata": {
        "id": "myU3mfle2tsb"
      },
      "outputs": [],
      "source": [
        "optimizer = 'adam'\n",
        "loss = tf.keras.losses.CategoricalCrossentropy()\n",
        "metrics = ['accuracy']"
      ]
    },
    {
      "cell_type": "code",
      "execution_count": null,
      "metadata": {
        "id": "3qJZr1QL2zz5"
      },
      "outputs": [],
      "source": [
        "model_VGG16.compile(optimizer=optimizer, loss=loss, metrics=metrics)"
      ]
    },
    {
      "cell_type": "code",
      "execution_count": null,
      "metadata": {
        "id": "HJtJRE9a3CCI"
      },
      "outputs": [],
      "source": [
        "model_RESNET50V2.compile(optimizer=optimizer, loss=loss, metrics=metrics)"
      ]
    },
    {
      "cell_type": "code",
      "execution_count": null,
      "metadata": {
        "id": "rlFGxUEp3GL_"
      },
      "outputs": [],
      "source": [
        "model_DenseNet201.compile(optimizer=optimizer, loss=loss, metrics=metrics)"
      ]
    },
    {
      "cell_type": "code",
      "execution_count": null,
      "metadata": {
        "id": "ZCSC0h3j3H2I"
      },
      "outputs": [],
      "source": [
        "model_VGG19.compile(optimizer=optimizer, loss=loss, metrics=metrics)"
      ]
    },
    {
      "cell_type": "code",
      "execution_count": null,
      "metadata": {
        "id": "VjaWO1Mf3KyP"
      },
      "outputs": [],
      "source": [
        "model_InceptionV3.compile(optimizer=optimizer, loss=loss, metrics=metrics)"
      ]
    },
    {
      "cell_type": "code",
      "execution_count": null,
      "metadata": {
        "id": "JzNEANQF3N0m"
      },
      "outputs": [],
      "source": [
        "model_Xception.compile(optimizer=optimizer, loss=loss, metrics=metrics)"
      ]
    },
    {
      "cell_type": "code",
      "execution_count": null,
      "metadata": {
        "id": "BE-BP0GK3QLm"
      },
      "outputs": [],
      "source": [
        "model_InceptionResNetV2.compile(optimizer=optimizer, loss=loss, metrics=metrics)"
      ]
    },
    {
      "cell_type": "code",
      "execution_count": null,
      "metadata": {
        "id": "yj-77Scw3S4O"
      },
      "outputs": [],
      "source": [
        "model_MobileNetV3Large.compile(optimizer=optimizer, loss=loss, metrics=metrics)"
      ]
    },
    {
      "cell_type": "markdown",
      "metadata": {
        "id": "kCroa8hP3gzB"
      },
      "source": [
        "# Fit Model"
      ]
    },
    {
      "cell_type": "code",
      "execution_count": null,
      "metadata": {
        "id": "tVvm_fxZC54R"
      },
      "outputs": [],
      "source": [
        "EPOCH = 100\n",
        "BATCH_SIZE = 32"
      ]
    },
    {
      "cell_type": "code",
      "execution_count": null,
      "metadata": {
        "id": "2_2V9FGvXbzA"
      },
      "outputs": [],
      "source": [
        "callback2 = tf.keras.callbacks.EarlyStopping(monitor='val_loss', patience=5)\n",
        "\n",
        "CALLBACK = [duration_callback, callback2]"
      ]
    },
    {
      "cell_type": "code",
      "source": [],
      "metadata": {
        "id": "58S9LKMkTnGc"
      },
      "execution_count": null,
      "outputs": []
    },
    {
      "cell_type": "code",
      "execution_count": null,
      "metadata": {
        "colab": {
          "base_uri": "https://localhost:8080/",
          "height": 1000
        },
        "id": "ugxQd3MJXV7p",
        "outputId": "fbfa6e6d-0668-4f70-9e73-d5f13a47296e"
      },
      "outputs": [
        {
          "output_type": "stream",
          "name": "stdout",
          "text": [
            "Epoch 1/100\n",
            "145/145 [==============================] - 203s 743ms/step - loss: 1.7045 - accuracy: 0.5138 - val_loss: 1.4642 - val_accuracy: 0.5860 - duration: 202.9853\n",
            "Epoch 2/100\n",
            "145/145 [==============================] - 93s 641ms/step - loss: 0.7731 - accuracy: 0.7682 - val_loss: 1.5859 - val_accuracy: 0.5771 - duration: 93.2247\n",
            "Epoch 3/100\n",
            "145/145 [==============================] - 92s 634ms/step - loss: 0.4882 - accuracy: 0.8519 - val_loss: 1.3124 - val_accuracy: 0.6505 - duration: 92.1120\n",
            "Epoch 4/100\n",
            "145/145 [==============================] - 95s 654ms/step - loss: 0.3616 - accuracy: 0.8924 - val_loss: 1.1985 - val_accuracy: 0.6792 - duration: 95.1438\n",
            "Epoch 5/100\n",
            "145/145 [==============================] - 93s 640ms/step - loss: 0.2183 - accuracy: 0.9314 - val_loss: 1.4058 - val_accuracy: 0.6667 - duration: 93.4891\n",
            "Epoch 6/100\n",
            "145/145 [==============================] - 93s 639ms/step - loss: 0.2011 - accuracy: 0.9381 - val_loss: 1.1906 - val_accuracy: 0.6989 - duration: 93.2331\n",
            "Epoch 7/100\n",
            "145/145 [==============================] - 96s 657ms/step - loss: 0.1567 - accuracy: 0.9524 - val_loss: 1.3842 - val_accuracy: 0.6953 - duration: 95.8661\n",
            "Epoch 8/100\n",
            "145/145 [==============================] - 91s 629ms/step - loss: 0.1781 - accuracy: 0.9476 - val_loss: 1.2416 - val_accuracy: 0.6989 - duration: 91.4227\n",
            "Epoch 9/100\n",
            "145/145 [==============================] - 95s 650ms/step - loss: 0.1293 - accuracy: 0.9584 - val_loss: 1.4470 - val_accuracy: 0.7097 - duration: 94.9619\n",
            "Epoch 10/100\n",
            "145/145 [==============================] - 93s 641ms/step - loss: 0.1307 - accuracy: 0.9636 - val_loss: 1.3865 - val_accuracy: 0.7043 - duration: 93.1809\n",
            "Epoch 11/100\n",
            "145/145 [==============================] - 94s 644ms/step - loss: 0.1070 - accuracy: 0.9672 - val_loss: 1.2350 - val_accuracy: 0.7330 - duration: 93.9079\n"
          ]
        },
        {
          "output_type": "display_data",
          "data": {
            "text/plain": [
              "<Figure size 640x480 with 1 Axes>"
            ],
            "image/png": "[encoded data removed]"
          },
          "metadata": {}
        },
        {
          "output_type": "display_data",
          "data": {
            "text/plain": [
              "<Figure size 640x480 with 1 Axes>"
            ],
            "image/png": "[encoded data removed]"
          },
          "metadata": {}
        }
      ],
      "source": [
        "model_InceptionResNetV2_Histo = model_InceptionResNetV2.fit(train_dataset, epochs=EPOCH, validation_data = validation_dataset, batch_size=BATCH_SIZE, callbacks=CALLBACK)\n",
        "model_InceptionResNetV2.save(path2+'/model_InceptionResNetV2.keras')\n",
        "plot_loss_curves(model_InceptionResNetV2_Histo)"
      ]
    },
    {
      "cell_type": "markdown",
      "metadata": {
        "id": "l729-xGU3q9i"
      },
      "source": [
        "## VGG16"
      ]
    },
    {
      "cell_type": "code",
      "execution_count": null,
      "metadata": {
        "colab": {
          "base_uri": "https://localhost:8080/",
          "height": 1000
        },
        "id": "PHIC6d3L3kgM",
        "outputId": "69b0ff1a-8421-4150-ce7b-5205b049c361"
      },
      "outputs": [
        {
          "output_type": "stream",
          "name": "stdout",
          "text": [
            "Epoch 1/100\n",
            "  6/145 [>.............................] - ETA: 1:12 - loss: 3.9163 - accuracy: 0.0104"
          ]
        },
        {
          "output_type": "stream",
          "name": "stderr",
          "text": [
            "WARNING:tensorflow:Callback method `on_train_batch_end` is slow compared to the batch time (batch time: 0.2347s vs `on_train_batch_end` time: 0.2355s). Check your callbacks.\n"
          ]
        },
        {
          "output_type": "stream",
          "name": "stdout",
          "text": [
            "145/145 [==============================] - 111s 600ms/step - loss: 3.4279 - accuracy: 0.0384 - val_loss: 3.3956 - val_accuracy: 0.0466 - duration: 111.3037\n",
            "Epoch 2/100\n",
            "145/145 [==============================] - 83s 571ms/step - loss: 3.3966 - accuracy: 0.0466 - val_loss: 3.3921 - val_accuracy: 0.0466 - duration: 83.0243\n",
            "Epoch 3/100\n",
            "145/145 [==============================] - 83s 570ms/step - loss: 3.3940 - accuracy: 0.0468 - val_loss: 3.3913 - val_accuracy: 0.0466 - duration: 82.7164\n",
            "Epoch 4/100\n",
            "145/145 [==============================] - 83s 572ms/step - loss: 3.3939 - accuracy: 0.0461 - val_loss: 3.3911 - val_accuracy: 0.0466 - duration: 83.1201\n",
            "Epoch 5/100\n",
            "145/145 [==============================] - 81s 557ms/step - loss: 3.3936 - accuracy: 0.0468 - val_loss: 3.3910 - val_accuracy: 0.0466 - duration: 81.2003\n",
            "Epoch 6/100\n",
            "145/145 [==============================] - 81s 555ms/step - loss: 3.3935 - accuracy: 0.0468 - val_loss: 3.3911 - val_accuracy: 0.0466 - duration: 80.7932\n",
            "Epoch 7/100\n",
            "145/145 [==============================] - 81s 555ms/step - loss: 3.3936 - accuracy: 0.0448 - val_loss: 3.3909 - val_accuracy: 0.0466 - duration: 81.0304\n",
            "Epoch 8/100\n",
            "145/145 [==============================] - 84s 575ms/step - loss: 3.3933 - accuracy: 0.0468 - val_loss: 3.3910 - val_accuracy: 0.0466 - duration: 83.7956\n",
            "Epoch 9/100\n",
            "145/145 [==============================] - 82s 561ms/step - loss: 3.3936 - accuracy: 0.0468 - val_loss: 3.3912 - val_accuracy: 0.0466 - duration: 81.5246\n",
            "Epoch 10/100\n",
            "145/145 [==============================] - 81s 559ms/step - loss: 3.3932 - accuracy: 0.0433 - val_loss: 3.3909 - val_accuracy: 0.0466 - duration: 81.1655\n",
            "Epoch 11/100\n",
            "145/145 [==============================] - 81s 556ms/step - loss: 3.3934 - accuracy: 0.0442 - val_loss: 3.3910 - val_accuracy: 0.0448 - duration: 80.8944\n",
            "Epoch 12/100\n",
            "145/145 [==============================] - 83s 575ms/step - loss: 3.3933 - accuracy: 0.0459 - val_loss: 3.3909 - val_accuracy: 0.0466 - duration: 83.4163\n",
            "Epoch 13/100\n",
            "145/145 [==============================] - 82s 564ms/step - loss: 3.3933 - accuracy: 0.0468 - val_loss: 3.3910 - val_accuracy: 0.0466 - duration: 81.8321\n",
            "Epoch 14/100\n",
            "145/145 [==============================] - 81s 555ms/step - loss: 3.3933 - accuracy: 0.0453 - val_loss: 3.3910 - val_accuracy: 0.0466 - duration: 80.6027\n",
            "Epoch 15/100\n",
            "145/145 [==============================] - 83s 568ms/step - loss: 3.3931 - accuracy: 0.0468 - val_loss: 3.3909 - val_accuracy: 0.0466 - duration: 82.7973\n",
            "Epoch 16/100\n",
            "145/145 [==============================] - 85s 583ms/step - loss: 3.3932 - accuracy: 0.0468 - val_loss: 3.3910 - val_accuracy: 0.0466 - duration: 84.7337\n",
            "Epoch 17/100\n",
            "145/145 [==============================] - 83s 570ms/step - loss: 3.3929 - accuracy: 0.0453 - val_loss: 3.3910 - val_accuracy: 0.0466 - duration: 82.8311\n",
            "Epoch 18/100\n",
            "145/145 [==============================] - 83s 568ms/step - loss: 3.3932 - accuracy: 0.0468 - val_loss: 3.3910 - val_accuracy: 0.0466 - duration: 82.8033\n",
            "Epoch 19/100\n",
            "145/145 [==============================] - 84s 581ms/step - loss: 3.3930 - accuracy: 0.0468 - val_loss: 3.3910 - val_accuracy: 0.0466 - duration: 84.3679\n",
            "Epoch 20/100\n",
            "145/145 [==============================] - 86s 589ms/step - loss: 3.3930 - accuracy: 0.0444 - val_loss: 3.3910 - val_accuracy: 0.0466 - duration: 85.6781\n"
          ]
        },
        {
          "output_type": "display_data",
          "data": {
            "text/plain": [
              "<Figure size 640x480 with 1 Axes>"
            ],
            "image/png": "[encoded data removed]"
          },
          "metadata": {}
        },
        {
          "output_type": "display_data",
          "data": {
            "text/plain": [
              "<Figure size 640x480 with 1 Axes>"
            ],
            "image/png": "[encoded data removed]"
          },
          "metadata": {}
        }
      ],
      "source": [
        "model_VGG16_Histo = model_VGG16.fit(train_dataset, epochs=EPOCH, validation_data = validation_dataset, batch_size=BATCH_SIZE, callbacks=CALLBACK)\n",
        "model_VGG16.save(path2+'/model_VGG16.keras')\n",
        "plot_loss_curves(model_VGG16_Histo)"
      ]
    },
    {
      "cell_type": "code",
      "execution_count": null,
      "metadata": {
        "id": "wSMxyczUDIyy",
        "colab": {
          "base_uri": "https://localhost:8080/",
          "height": 1000
        },
        "outputId": "1c07dc9f-825f-4d91-8de3-e057507b0b81"
      },
      "outputs": [
        {
          "output_type": "stream",
          "name": "stdout",
          "text": [
            "Epoch 1/100\n",
            "145/145 [==============================] - 125s 616ms/step - loss: 2.5346 - accuracy: 0.2792 - val_loss: 2.4764 - val_accuracy: 0.3190 - duration: 124.5911\n",
            "Epoch 2/100\n",
            "145/145 [==============================] - 80s 552ms/step - loss: 1.6941 - accuracy: 0.4944 - val_loss: 1.8859 - val_accuracy: 0.4391 - duration: 80.2678\n",
            "Epoch 3/100\n",
            "145/145 [==============================] - 79s 545ms/step - loss: 1.2068 - accuracy: 0.6367 - val_loss: 1.7330 - val_accuracy: 0.5358 - duration: 79.4656\n",
            "Epoch 4/100\n",
            "145/145 [==============================] - 80s 551ms/step - loss: 0.9166 - accuracy: 0.7184 - val_loss: 1.5385 - val_accuracy: 0.5556 - duration: 79.9402\n",
            "Epoch 5/100\n",
            "145/145 [==============================] - 79s 544ms/step - loss: 0.6999 - accuracy: 0.7840 - val_loss: 1.7283 - val_accuracy: 0.5609 - duration: 79.2763\n",
            "Epoch 6/100\n",
            "145/145 [==============================] - 78s 539ms/step - loss: 0.5648 - accuracy: 0.8249 - val_loss: 1.6497 - val_accuracy: 0.5771 - duration: 78.2647\n",
            "Epoch 7/100\n",
            "145/145 [==============================] - 87s 595ms/step - loss: 0.3641 - accuracy: 0.8799 - val_loss: 1.6735 - val_accuracy: 0.5771 - duration: 86.6805\n",
            "Epoch 8/100\n",
            "145/145 [==============================] - 82s 561ms/step - loss: 0.2881 - accuracy: 0.9082 - val_loss: 1.7461 - val_accuracy: 0.5699 - duration: 81.5708\n",
            "Epoch 9/100\n",
            "145/145 [==============================] - 80s 551ms/step - loss: 0.2357 - accuracy: 0.9213 - val_loss: 1.9042 - val_accuracy: 0.5645 - duration: 80.0122\n"
          ]
        },
        {
          "output_type": "display_data",
          "data": {
            "text/plain": [
              "<Figure size 640x480 with 1 Axes>"
            ],
            "image/png": "[encoded data removed]"
          },
          "metadata": {}
        },
        {
          "output_type": "display_data",
          "data": {
            "text/plain": [
              "<Figure size 640x480 with 1 Axes>"
            ],
            "image/png": "[encoded data removed]"
          },
          "metadata": {}
        }
      ],
      "source": [
        "model_Resnet50V2_Histo = model_RESNET50V2.fit(train_dataset, epochs=EPOCH, validation_data = validation_dataset, batch_size=BATCH_SIZE, callbacks=CALLBACK)\n",
        "model_RESNET50V2.save(path2+'/model_RESNET50V2.keras')\n",
        "plot_loss_curves(model_Resnet50V2_Histo)"
      ]
    },
    {
      "cell_type": "code",
      "execution_count": null,
      "metadata": {
        "id": "PwClouCRD3jZ",
        "colab": {
          "base_uri": "https://localhost:8080/"
        },
        "outputId": "f92336d3-b3dd-41fc-b54f-c43c1237cfaf"
      },
      "outputs": [
        {
          "output_type": "stream",
          "name": "stdout",
          "text": [
            "Epoch 1/100\n",
            "145/145 [==============================] - 247s 820ms/step - loss: 1.9724 - accuracy: 0.4334 - val_loss: 1.7652 - val_accuracy: 0.4785 - duration: 247.4169\n",
            "Epoch 2/100\n",
            "145/145 [==============================] - 94s 647ms/step - loss: 1.1689 - accuracy: 0.6382 - val_loss: 1.5347 - val_accuracy: 0.5806 - duration: 94.0793\n",
            "Epoch 3/100\n",
            "145/145 [==============================] - 98s 672ms/step - loss: 0.8496 - accuracy: 0.7439 - val_loss: 1.4317 - val_accuracy: 0.6057 - duration: 97.6581\n",
            "Epoch 4/100\n",
            "145/145 [==============================] - 92s 632ms/step - loss: 0.6505 - accuracy: 0.7997 - val_loss: 1.3619 - val_accuracy: 0.6416 - duration: 91.9426\n",
            "Epoch 5/100\n",
            "145/145 [==============================] - 92s 632ms/step - loss: 0.5832 - accuracy: 0.8206 - val_loss: 1.2448 - val_accuracy: 0.6685 - duration: 92.0983\n",
            "Epoch 6/100\n",
            "145/145 [==============================] - 93s 638ms/step - loss: 0.4518 - accuracy: 0.8603 - val_loss: 1.2925 - val_accuracy: 0.6398 - duration: 92.7726\n",
            "Epoch 7/100\n",
            "145/145 [==============================] - 93s 639ms/step - loss: 0.4220 - accuracy: 0.8665 - val_loss: 1.1225 - val_accuracy: 0.6953 - duration: 92.9939\n",
            "Epoch 8/100\n",
            "145/145 [==============================] - 92s 631ms/step - loss: 0.3280 - accuracy: 0.8965 - val_loss: 1.1257 - val_accuracy: 0.6918 - duration: 91.7955\n",
            "Epoch 9/100\n",
            "145/145 [==============================] - 94s 646ms/step - loss: 0.3254 - accuracy: 0.8989 - val_loss: 1.3145 - val_accuracy: 0.6774 - duration: 94.0845\n",
            "Epoch 10/100\n",
            "145/145 [==============================] - 89s 615ms/step - loss: 0.2753 - accuracy: 0.9114 - val_loss: 1.3113 - val_accuracy: 0.6918 - duration: 89.4510\n",
            "Epoch 11/100\n",
            "145/145 [==============================] - 94s 649ms/step - loss: 0.2429 - accuracy: 0.9185 - val_loss: 1.3018 - val_accuracy: 0.6882 - duration: 94.3198\n",
            "Epoch 12/100\n",
            "145/145 [==============================] - 92s 629ms/step - loss: 0.2511 - accuracy: 0.9196 - val_loss: 1.1713 - val_accuracy: 0.7294 - duration: 91.5938\n"
          ]
        },
        {
          "output_type": "display_data",
          "data": {
            "text/plain": [
              "<Figure size 640x480 with 1 Axes>"
            ],
            "image/png": "[encoded data removed]"
          },
          "metadata": {}
        },
        {
          "output_type": "display_data",
          "data": {
            "text/plain": [
              "<Figure size 640x480 with 1 Axes>"
            ],
            "image/png": "[encoded data removed]"
          },
          "metadata": {}
        }
      ],
      "source": [
        "model_DenseNet201_Histo = model_DenseNet201.fit(train_dataset, epochs=EPOCH, validation_data = validation_dataset, batch_size=BATCH_SIZE, callbacks=CALLBACK)\n",
        "model_DenseNet201.save(path2+'/model_DenseNet201.keras')\n",
        "plot_loss_curves(model_DenseNet201_Histo)"
      ]
    },
    {
      "cell_type": "code",
      "execution_count": null,
      "metadata": {
        "id": "9-j-JaqmEF1-"
      },
      "outputs": [],
      "source": [
        "model_VGG19_Histo = model_VGG19.fit(train_dataset, epochs=EPOCH, validation_data = validation_dataset, batch_size=BATCH_SIZE, callbacks=CALLBACK)\n",
        "model_VGG19.save(path2+'/model_VGG19.keras')\n",
        "plot_loss_curves(model_VGG19_Histo)"
      ]
    },
    {
      "cell_type": "code",
      "execution_count": null,
      "metadata": {
        "id": "5kBNPWJoEGpx"
      },
      "outputs": [],
      "source": [
        "model_InceptionV3_Histo = model_InceptionV3.fit(train_dataset, epochs=EPOCH, validation_data = validation_dataset, batch_size=BATCH_SIZE, callbacks=CALLBACK)\n",
        "model_InceptionV3.save(path2+'/model_InceptionV3.keras')\n",
        "plot_loss_curves(model_InceptionV3_Histo)"
      ]
    },
    {
      "cell_type": "code",
      "execution_count": null,
      "metadata": {
        "id": "G8Px3n_8EnQD"
      },
      "outputs": [],
      "source": [
        "model_Xception_Histo = model_Xception.fit(train_dataset, epochs=EPOCH, validation_data = validation_dataset, batch_size=BATCH_SIZE, callbacks=CALLBACK)\n",
        "model_Xception.save(path2+'/model_Xception.keras')\n",
        "plot_loss_curves(model_Xception_Histo)"
      ]
    },
    {
      "cell_type": "code",
      "execution_count": null,
      "metadata": {
        "id": "Ja6iJhZTEzDQ"
      },
      "outputs": [],
      "source": [
        "model_MobileNetV3Large_Histo = model_MobileNetV3Large.fit(train_dataset, epochs=EPOCH, validation_data = validation_dataset, batch_size=BATCH_SIZE, callbacks=CALLBACK)\n",
        "model_MobileNetV3Large.save(path2+'/model_MobileNetV3Large.keras')\n",
        "plot_loss_curves(model_MobileNetV3Large_Histo)"
      ]
    }
  ],
  "metadata": {
    "accelerator": "GPU",
    "colab": {
      "gpuType": "T4",
      "provenance": [],
      "include_colab_link": true
    },
    "kernelspec": {
      "display_name": "Python 3",
      "name": "python3"
    },
    "language_info": {
      "name": "python"
    }
  },
  "nbformat": 4,
  "nbformat_minor": 0
}