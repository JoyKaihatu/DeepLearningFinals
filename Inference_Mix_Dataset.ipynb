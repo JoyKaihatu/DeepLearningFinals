{
  "nbformat": 4,
  "nbformat_minor": 0,
  "metadata": {
    "colab": {
      "provenance": [],
      "authorship_tag": "ABX9TyOZnG3wVWH58IXmlQXJyih7",
      "include_colab_link": true
    },
    "kernelspec": {
      "name": "python3",
      "display_name": "Python 3"
    },
    "language_info": {
      "name": "python"
    }
  },
  "cells": [
    {
      "cell_type": "markdown",
      "metadata": {
        "id": "view-in-github",
        "colab_type": "text"
      },
      "source": [
        "<a href=\"https://colab.research.google.com/github/JoyKaihatu/DeepLearningFinals/blob/main/Inference_Mix_Dataset.ipynb\" target=\"_parent\"><img src=\"https://colab.research.google.com/assets/colab-badge.svg\" alt=\"Open In Colab\"/></a>"
      ]
    },
    {
      "cell_type": "code",
      "source": [
        "# prompt: mount gdrive and force remount as true\\\n",
        "\n",
        "import tensorflow as tf\n",
        "from google.colab import drive\n",
        "\n",
        "# Mount your Google Drive\n",
        "drive.mount('/content/drive', force_remount = True)\n",
        "\n"
      ],
      "metadata": {
        "colab": {
          "base_uri": "https://localhost:8080/"
        },
        "id": "CDOhxwin272g",
        "outputId": "a9d3150d-b715-40e4-ce32-7f311f232424"
      },
      "execution_count": null,
      "outputs": [
        {
          "output_type": "stream",
          "name": "stdout",
          "text": [
            "Mounted at /content/drive\n"
          ]
        }
      ]
    },
    {
      "cell_type": "code",
      "source": [
        "path_model = '/content/drive/MyDrive/UAS_DL/Model_DL/MODEL_CROP_AFTER_SPLIT_MIX'\n",
        "path_ds = '/content/drive/MyDrive/UAS_DL/DATASET/CROP_AFTER_SPLIT_MIX'"
      ],
      "metadata": {
        "id": "UQf0yNyG3Jrt"
      },
      "execution_count": null,
      "outputs": []
    },
    {
      "cell_type": "code",
      "source": [
        "from tensorflow.keras.preprocessing.image import ImageDataGenerator"
      ],
      "metadata": {
        "id": "gLvyGBCP4Ci5"
      },
      "execution_count": null,
      "outputs": []
    },
    {
      "cell_type": "code",
      "source": [
        "train = ImageDataGenerator(rescale=1/255)\n",
        "validation = ImageDataGenerator(rescale=1/255)"
      ],
      "metadata": {
        "id": "ronWD0WU37OF"
      },
      "execution_count": null,
      "outputs": []
    },
    {
      "cell_type": "code",
      "source": [
        "test_dataset = train.flow_from_directory(path_ds+'/test',\n",
        "                                          target_size=(224,224),\n",
        "                                          batch_size= 32,\n",
        "                                          class_mode='categorical')\n",
        "val_dataset = validation.flow_from_directory(path_ds+'/val',\n",
        "                                          target_size=(224,224),\n",
        "                                          batch_size= 32,\n",
        "                                          class_mode='categorical')"
      ],
      "metadata": {
        "colab": {
          "base_uri": "https://localhost:8080/"
        },
        "id": "PPO8KAw73-9V",
        "outputId": "a1bd6b36-66bb-41e4-d5e8-f5864d7d61d7"
      },
      "execution_count": null,
      "outputs": [
        {
          "output_type": "stream",
          "name": "stdout",
          "text": [
            "Found 630 images belonging to 30 classes.\n",
            "Found 558 images belonging to 30 classes.\n"
          ]
        }
      ]
    },
    {
      "cell_type": "markdown",
      "source": [
        "# Load All Model"
      ],
      "metadata": {
        "id": "NCa3Wd6U4JJV"
      }
    },
    {
      "cell_type": "code",
      "source": [
        "model_DenseNet201 = tf.keras.models.load_model(path_model+'/model_DenseNet201.keras')\n",
        "model_DenseNet201.summary()"
      ],
      "metadata": {
        "colab": {
          "base_uri": "https://localhost:8080/"
        },
        "id": "kHvptX094Ixx",
        "outputId": "38ee7ae9-9187-407e-f101-b7851b6fadf4"
      },
      "execution_count": null,
      "outputs": [
        {
          "output_type": "stream",
          "name": "stdout",
          "text": [
            "Model: \"DenseNet201\"\n",
            "_________________________________________________________________\n",
            " Layer (type)                Output Shape              Param #   \n",
            "=================================================================\n",
            " input_22 (InputLayer)       [(None, 224, 224, 3)]     0         \n",
            "                                                                 \n",
            " densenet201 (Functional)    (None, None, None, 1920   18321984  \n",
            "                             )                                   \n",
            "                                                                 \n",
            " global_average_pooling2d_1  (None, 1920)              0         \n",
            " 0 (GlobalAveragePooling2D)                                      \n",
            "                                                                 \n",
            " flatten_10 (Flatten)        (None, 1920)              0         \n",
            "                                                                 \n",
            " dense_20 (Dense)            (None, 512)               983552    \n",
            "                                                                 \n",
            " dense_21 (Dense)            (None, 30)                15390     \n",
            "                                                                 \n",
            "=================================================================\n",
            "Total params: 19320926 (73.70 MB)\n",
            "Trainable params: 19091870 (72.83 MB)\n",
            "Non-trainable params: 229056 (894.75 KB)\n",
            "_________________________________________________________________\n"
          ]
        }
      ]
    },
    {
      "cell_type": "code",
      "source": [
        "model_InceptionResNetV2 = tf.keras.models.load_model(path_model+'/model_InceptionResNetV2.keras')\n",
        "model_InceptionResNetV2.summary()"
      ],
      "metadata": {
        "colab": {
          "base_uri": "https://localhost:8080/"
        },
        "id": "nYIZlDi27hdo",
        "outputId": "6913fcee-2041-4ab7-9120-09fcdcde271e"
      },
      "execution_count": null,
      "outputs": [
        {
          "output_type": "stream",
          "name": "stdout",
          "text": [
            "Model: \"InceptionResNetV2\"\n",
            "_________________________________________________________________\n",
            " Layer (type)                Output Shape              Param #   \n",
            "=================================================================\n",
            " input_30 (InputLayer)       [(None, 224, 224, 3)]     0         \n",
            "                                                                 \n",
            " inception_resnet_v2 (Funct  (None, None, None, 1536   54336736  \n",
            " ional)                      )                                   \n",
            "                                                                 \n",
            " global_average_pooling2d_1  (None, 1536)              0         \n",
            " 4 (GlobalAveragePooling2D)                                      \n",
            "                                                                 \n",
            " flatten_14 (Flatten)        (None, 1536)              0         \n",
            "                                                                 \n",
            " dense_28 (Dense)            (None, 512)               786944    \n",
            "                                                                 \n",
            " dense_29 (Dense)            (None, 30)                15390     \n",
            "                                                                 \n",
            "=================================================================\n",
            "Total params: 55139070 (210.34 MB)\n",
            "Trainable params: 55078526 (210.11 MB)\n",
            "Non-trainable params: 60544 (236.50 KB)\n",
            "_________________________________________________________________\n"
          ]
        }
      ]
    },
    {
      "cell_type": "code",
      "source": [
        "model_InceptionV3 = tf.keras.models.load_model(path_model+'/model_InceptionV3.keras')\n",
        "model_InceptionV3.summary()"
      ],
      "metadata": {
        "colab": {
          "base_uri": "https://localhost:8080/"
        },
        "id": "TH3IiAxf7ovT",
        "outputId": "fd6f9be4-ee66-413d-f48d-b97d4d0a6b90"
      },
      "execution_count": null,
      "outputs": [
        {
          "output_type": "stream",
          "name": "stdout",
          "text": [
            "Model: \"InceptionV3\"\n",
            "_________________________________________________________________\n",
            " Layer (type)                Output Shape              Param #   \n",
            "=================================================================\n",
            " input_26 (InputLayer)       [(None, 224, 224, 3)]     0         \n",
            "                                                                 \n",
            " inception_v3 (Functional)   (None, None, None, 2048   21802784  \n",
            "                             )                                   \n",
            "                                                                 \n",
            " global_average_pooling2d_1  (None, 2048)              0         \n",
            " 2 (GlobalAveragePooling2D)                                      \n",
            "                                                                 \n",
            " flatten_12 (Flatten)        (None, 2048)              0         \n",
            "                                                                 \n",
            " dense_24 (Dense)            (None, 512)               1049088   \n",
            "                                                                 \n",
            " dense_25 (Dense)            (None, 30)                15390     \n",
            "                                                                 \n",
            "=================================================================\n",
            "Total params: 22867262 (87.23 MB)\n",
            "Trainable params: 22832830 (87.10 MB)\n",
            "Non-trainable params: 34432 (134.50 KB)\n",
            "_________________________________________________________________\n"
          ]
        }
      ]
    },
    {
      "cell_type": "code",
      "source": [
        "model_MobileNetV3Large = tf.keras.models.load_model(path_model+'/model_MobileNetV3Large.keras')\n",
        "model_MobileNetV3Large.summary()"
      ],
      "metadata": {
        "colab": {
          "base_uri": "https://localhost:8080/"
        },
        "id": "tGcOCan97rcf",
        "outputId": "259148d1-e6c4-4e74-d452-32f83a2546a7"
      },
      "execution_count": null,
      "outputs": [
        {
          "output_type": "stream",
          "name": "stdout",
          "text": [
            "Model: \"InceptionResNetV2\"\n",
            "_________________________________________________________________\n",
            " Layer (type)                Output Shape              Param #   \n",
            "=================================================================\n",
            " input_32 (InputLayer)       [(None, 224, 224, 3)]     0         \n",
            "                                                                 \n",
            " MobilenetV3large (Function  (None, None, None, 960)   2996352   \n",
            " al)                                                             \n",
            "                                                                 \n",
            " global_average_pooling2d_1  (None, 960)               0         \n",
            " 5 (GlobalAveragePooling2D)                                      \n",
            "                                                                 \n",
            " flatten_15 (Flatten)        (None, 960)               0         \n",
            "                                                                 \n",
            " dense_30 (Dense)            (None, 512)               492032    \n",
            "                                                                 \n",
            " dense_31 (Dense)            (None, 30)                15390     \n",
            "                                                                 \n",
            "=================================================================\n",
            "Total params: 3503774 (13.37 MB)\n",
            "Trainable params: 3479374 (13.27 MB)\n",
            "Non-trainable params: 24400 (95.31 KB)\n",
            "_________________________________________________________________\n"
          ]
        }
      ]
    },
    {
      "cell_type": "code",
      "source": [
        "model_RESNET50V2 = tf.keras.models.load_model(path_model+'/model_RESNET50V2.keras')\n",
        "model_RESNET50V2.summary()"
      ],
      "metadata": {
        "colab": {
          "base_uri": "https://localhost:8080/"
        },
        "id": "1DiFUXd171oy",
        "outputId": "baffdbef-cde0-4599-b20b-335f28ac68f9"
      },
      "execution_count": null,
      "outputs": [
        {
          "output_type": "stream",
          "name": "stdout",
          "text": [
            "Model: \"ResNet50V2\"\n",
            "_________________________________________________________________\n",
            " Layer (type)                Output Shape              Param #   \n",
            "=================================================================\n",
            " input_20 (InputLayer)       [(None, 224, 224, 3)]     0         \n",
            "                                                                 \n",
            " resnet50v2 (Functional)     (None, None, None, 2048   23564800  \n",
            "                             )                                   \n",
            "                                                                 \n",
            " global_average_pooling2d_9  (None, 2048)              0         \n",
            "  (GlobalAveragePooling2D)                                       \n",
            "                                                                 \n",
            " flatten_9 (Flatten)         (None, 2048)              0         \n",
            "                                                                 \n",
            " dense_18 (Dense)            (None, 512)               1049088   \n",
            "                                                                 \n",
            " dense_19 (Dense)            (None, 30)                15390     \n",
            "                                                                 \n",
            "=================================================================\n",
            "Total params: 24629278 (93.95 MB)\n",
            "Trainable params: 24583838 (93.78 MB)\n",
            "Non-trainable params: 45440 (177.50 KB)\n",
            "_________________________________________________________________\n"
          ]
        }
      ]
    },
    {
      "cell_type": "code",
      "source": [
        "model_VGG16 = tf.keras.models.load_model(path_model+'/model_VGG16.keras')\n",
        "model_VGG16.summary()"
      ],
      "metadata": {
        "colab": {
          "base_uri": "https://localhost:8080/"
        },
        "id": "Q3B4vnQL74-_",
        "outputId": "0e9acc15-bf27-42cb-9e7e-2ea43d31f4aa"
      },
      "execution_count": null,
      "outputs": [
        {
          "output_type": "stream",
          "name": "stdout",
          "text": [
            "Model: \"VGG16\"\n",
            "_________________________________________________________________\n",
            " Layer (type)                Output Shape              Param #   \n",
            "=================================================================\n",
            " input_18 (InputLayer)       [(None, 224, 224, 3)]     0         \n",
            "                                                                 \n",
            " vgg16 (Functional)          (None, None, None, 512)   14714688  \n",
            "                                                                 \n",
            " global_average_pooling2d_8  (None, 512)               0         \n",
            "  (GlobalAveragePooling2D)                                       \n",
            "                                                                 \n",
            " flatten_8 (Flatten)         (None, 512)               0         \n",
            "                                                                 \n",
            " dense_16 (Dense)            (None, 512)               262656    \n",
            "                                                                 \n",
            " dense_17 (Dense)            (None, 30)                15390     \n",
            "                                                                 \n",
            "=================================================================\n",
            "Total params: 14992734 (57.19 MB)\n",
            "Trainable params: 14992734 (57.19 MB)\n",
            "Non-trainable params: 0 (0.00 Byte)\n",
            "_________________________________________________________________\n"
          ]
        }
      ]
    },
    {
      "cell_type": "code",
      "source": [
        "model_VGG19 = tf.keras.models.load_model(path_model+'/model_VGG19.keras')\n",
        "model_VGG19.summary()"
      ],
      "metadata": {
        "colab": {
          "base_uri": "https://localhost:8080/"
        },
        "id": "pmgIZesu77QH",
        "outputId": "419a1397-3f03-467a-9917-68ed30f4877a"
      },
      "execution_count": null,
      "outputs": [
        {
          "output_type": "stream",
          "name": "stdout",
          "text": [
            "Model: \"VGG19\"\n",
            "_________________________________________________________________\n",
            " Layer (type)                Output Shape              Param #   \n",
            "=================================================================\n",
            " input_24 (InputLayer)       [(None, 224, 224, 3)]     0         \n",
            "                                                                 \n",
            " vgg19 (Functional)          (None, None, None, 512)   20024384  \n",
            "                                                                 \n",
            " global_average_pooling2d_1  (None, 512)               0         \n",
            " 1 (GlobalAveragePooling2D)                                      \n",
            "                                                                 \n",
            " flatten_11 (Flatten)        (None, 512)               0         \n",
            "                                                                 \n",
            " dense_22 (Dense)            (None, 512)               262656    \n",
            "                                                                 \n",
            " dense_23 (Dense)            (None, 30)                15390     \n",
            "                                                                 \n",
            "=================================================================\n",
            "Total params: 20302430 (77.45 MB)\n",
            "Trainable params: 20302430 (77.45 MB)\n",
            "Non-trainable params: 0 (0.00 Byte)\n",
            "_________________________________________________________________\n"
          ]
        }
      ]
    },
    {
      "cell_type": "code",
      "source": [
        "model_Xception = tf.keras.models.load_model(path_model+'/model_Xception.keras')\n",
        "model_Xception.summary()"
      ],
      "metadata": {
        "colab": {
          "base_uri": "https://localhost:8080/"
        },
        "id": "5Q_bsmmY79fZ",
        "outputId": "d52cbdcd-fc0e-4084-ce6d-53061fde0043"
      },
      "execution_count": null,
      "outputs": [
        {
          "output_type": "stream",
          "name": "stdout",
          "text": [
            "Model: \"Xception\"\n",
            "_________________________________________________________________\n",
            " Layer (type)                Output Shape              Param #   \n",
            "=================================================================\n",
            " input_28 (InputLayer)       [(None, 224, 224, 3)]     0         \n",
            "                                                                 \n",
            " xception (Functional)       (None, None, None, 2048   20861480  \n",
            "                             )                                   \n",
            "                                                                 \n",
            " global_average_pooling2d_1  (None, 2048)              0         \n",
            " 3 (GlobalAveragePooling2D)                                      \n",
            "                                                                 \n",
            " flatten_13 (Flatten)        (None, 2048)              0         \n",
            "                                                                 \n",
            " dense_26 (Dense)            (None, 512)               1049088   \n",
            "                                                                 \n",
            " dense_27 (Dense)            (None, 30)                15390     \n",
            "                                                                 \n",
            "=================================================================\n",
            "Total params: 21925958 (83.64 MB)\n",
            "Trainable params: 21871430 (83.43 MB)\n",
            "Non-trainable params: 54528 (213.00 KB)\n",
            "_________________________________________________________________\n"
          ]
        }
      ]
    },
    {
      "cell_type": "markdown",
      "source": [
        "# Evaluate the model on Validation And Test Dataset"
      ],
      "metadata": {
        "id": "f_s-RHR-GF7N"
      }
    },
    {
      "cell_type": "markdown",
      "source": [
        "## DenseNet201"
      ],
      "metadata": {
        "id": "RVr1PLpyGMCL"
      }
    },
    {
      "cell_type": "code",
      "source": [
        "val_loss, val_acc = model_DenseNet201.evaluate(val_dataset, verbose=2)\n",
        "print(\"Val_Accuracy: %.2f\" % (val_acc*100))\n",
        "print(f'Val_Loss: {val_loss}')"
      ],
      "metadata": {
        "colab": {
          "base_uri": "https://localhost:8080/"
        },
        "id": "2-JouDDd8AEn",
        "outputId": "c116a378-489c-4f48-9a64-e99c65f33ffa"
      },
      "execution_count": null,
      "outputs": [
        {
          "output_type": "stream",
          "name": "stdout",
          "text": [
            "18/18 - 277s - loss: 1.1780 - accuracy: 0.7097 - 277s/epoch - 15s/step\n",
            "Val_Accuracy: 70.97\n",
            "Val_Loss: 1.1779820919036865\n"
          ]
        }
      ]
    },
    {
      "cell_type": "code",
      "source": [
        "test_loss, test_acc = model_DenseNet201.evaluate(test_dataset, verbose=2)\n",
        "print(\"Test_Accuracy: %.2f\" % (test_acc*100))\n",
        "print(f'Test_Loss: {test_loss}')"
      ],
      "metadata": {
        "colab": {
          "base_uri": "https://localhost:8080/"
        },
        "id": "ZZMD9K8JGrYu",
        "outputId": "26fbd8e4-8e42-4a72-a66e-3c4601d246bf"
      },
      "execution_count": null,
      "outputs": [
        {
          "output_type": "stream",
          "name": "stdout",
          "text": [
            "20/20 - 298s - loss: 0.9295 - accuracy: 0.7825 - 298s/epoch - 15s/step\n",
            "Test_Accuracy: 78.25\n",
            "Test_Loss: 0.9295006990432739\n"
          ]
        }
      ]
    },
    {
      "cell_type": "markdown",
      "source": [
        "## InceptionResNetV2"
      ],
      "metadata": {
        "id": "39wjn9hhGxvN"
      }
    },
    {
      "cell_type": "code",
      "source": [
        "val_loss2 , vall_acc2 = model_InceptionResNetV2.evaluate(val_dataset, verbose=2)\n",
        "print(\"Val_Accuracy: %.2f\" % (vall_acc2*100))\n",
        "print(f'Val_Loss: {val_loss2}')\n",
        "\n",
        "print(\" \")\n",
        "\n",
        "\n",
        "test_loss2 , test_loss2 = model_InceptionResNetV2.evaluate(test_dataset, verbose=2)\n",
        "print(\"Test_Accuracy: %.2f\" % (test_loss2*100))\n",
        "print(f'Test_Loss: {test_loss2}')"
      ],
      "metadata": {
        "colab": {
          "base_uri": "https://localhost:8080/"
        },
        "id": "m-q0HSkEG2lc",
        "outputId": "d1b9b6cb-abed-45d8-84cb-9bccc0baaa3d"
      },
      "execution_count": null,
      "outputs": [
        {
          "output_type": "stream",
          "name": "stdout",
          "text": [
            "18/18 - 195s - loss: 1.2946 - accuracy: 0.7419 - 195s/epoch - 11s/step\n",
            "Val_Accuracy: 74.19\n",
            "Val_Loss: 1.2945575714111328\n",
            " \n",
            "20/20 - 211s - loss: 0.8108 - accuracy: 0.8095 - 211s/epoch - 11s/step\n",
            "Test_Accuracy: 80.95\n",
            "Test_Loss: 0.8095238208770752\n"
          ]
        }
      ]
    },
    {
      "cell_type": "markdown",
      "source": [
        "## InceptionV3"
      ],
      "metadata": {
        "id": "1Am6VUYOHGea"
      }
    },
    {
      "cell_type": "code",
      "source": [
        "val_loss3, val_acc3 = model_InceptionV3.evaluate(val_dataset, verbose=2)\n",
        "print(\"Val_Accuracy: %.2f\" % (val_acc3*100))\n",
        "print(f'Val_Loss: {val_loss3}')\n",
        "\n",
        "print(\" \")\n",
        "\n",
        "test_loss3, test_acc3 = model_InceptionV3.evaluate(test_dataset, verbose=2)\n",
        "print(\"Test_Accuracy: %.2f\" % (test_acc3*100))\n",
        "print(f'Test_Loss: {test_loss3}')"
      ],
      "metadata": {
        "colab": {
          "base_uri": "https://localhost:8080/"
        },
        "id": "I3B8X9H4HF0R",
        "outputId": "750c6b5d-00a7-4461-92c8-92cbba08585c"
      },
      "execution_count": null,
      "outputs": [
        {
          "output_type": "stream",
          "name": "stdout",
          "text": [
            "18/18 - 97s - loss: 1.5450 - accuracy: 0.6416 - 97s/epoch - 5s/step\n",
            "Val_Accuracy: 64.16\n",
            "Val_Loss: 1.5450159311294556\n",
            " \n",
            "20/20 - 112s - loss: 1.1262 - accuracy: 0.7365 - 112s/epoch - 6s/step\n",
            "Test_Accuracy: 73.65\n",
            "Test_Loss: 1.1262297630310059\n"
          ]
        }
      ]
    },
    {
      "cell_type": "markdown",
      "source": [
        "## MobileNetV3Large"
      ],
      "metadata": {
        "id": "BZ3_lIHQHVWo"
      }
    },
    {
      "cell_type": "code",
      "source": [
        "val_loss4, val_acc4 = model_MobileNetV3Large.evaluate(val_dataset, verbose=2)\n",
        "print(\"Val_Accuracy: %.2f\" % (val_acc4*100))\n",
        "print(f'Val_Loss: {val_loss4}')\n",
        "\n",
        "print(\" \")\n",
        "\n",
        "test_loss4, test_acc4 = model_MobileNetV3Large.evaluate(test_dataset, verbose=2)\n",
        "print(\"Test_Accuracy: %.2f\" % (test_acc4*100))\n",
        "print(f'Test_Loss: {test_loss4}')"
      ],
      "metadata": {
        "colab": {
          "base_uri": "https://localhost:8080/"
        },
        "id": "J_6n9QEUHXoF",
        "outputId": "baf14e8d-4c97-4bc7-a6b6-d1e02c8d1b7c"
      },
      "execution_count": null,
      "outputs": [
        {
          "output_type": "stream",
          "name": "stdout",
          "text": [
            "18/18 - 39s - loss: 1.1318 - accuracy: 0.7509 - 39s/epoch - 2s/step\n",
            "Val_Accuracy: 75.09\n",
            "Val_Loss: 1.1317945718765259\n",
            " \n",
            "20/20 - 42s - loss: 0.8505 - accuracy: 0.8190 - 42s/epoch - 2s/step\n",
            "Test_Accuracy: 81.90\n",
            "Test_Loss: 0.8505312204360962\n"
          ]
        }
      ]
    },
    {
      "cell_type": "markdown",
      "source": [
        "## ResNet50V2"
      ],
      "metadata": {
        "id": "2HgDBmelHjrC"
      }
    },
    {
      "cell_type": "code",
      "source": [
        "val_loss5, val_acc5 = model_RESNET50V2.evaluate(val_dataset, verbose=2)\n",
        "print(\"Val_Accuracy: %.2f\" % (val_acc5*100))\n",
        "print(f'Val_Loss: {val_loss5}')\n",
        "\n",
        "print(\" \")\n",
        "\n",
        "test_loss5, test_acc5 = model_RESNET50V2.evaluate(test_dataset, verbose=2)\n",
        "print(\"Test_Accuracy: %.2f\" % (test_acc5*100))\n",
        "print(f'Test_Loss: {test_loss5}')"
      ],
      "metadata": {
        "colab": {
          "base_uri": "https://localhost:8080/"
        },
        "id": "mRpKUCa-HhLl",
        "outputId": "9a5e6567-545b-4a15-a422-0aa7c9238695"
      },
      "execution_count": null,
      "outputs": [
        {
          "output_type": "stream",
          "name": "stdout",
          "text": [
            "18/18 - 130s - loss: 1.8995 - accuracy: 0.5645 - 130s/epoch - 7s/step\n",
            "Val_Accuracy: 56.45\n",
            "Val_Loss: 1.8994899988174438\n",
            " \n",
            "20/20 - 146s - loss: 1.4124 - accuracy: 0.6778 - 146s/epoch - 7s/step\n",
            "Test_Accuracy: 67.78\n",
            "Test_Loss: 1.4123904705047607\n"
          ]
        }
      ]
    },
    {
      "cell_type": "markdown",
      "source": [
        "## VGG16"
      ],
      "metadata": {
        "id": "61b0XnlSH2Pp"
      }
    },
    {
      "cell_type": "code",
      "source": [
        "val_loss6, val_acc6 = model_VGG16.evaluate(val_dataset, verbose=2)\n",
        "print(\"Val_Accuracy: %.2f\" % (val_acc6*100))\n",
        "print(f'Val_Loss: {val_loss6}')\n",
        "\n",
        "print(\" \")\n",
        "\n",
        "test_loss6, test_acc6 = model_VGG16.evaluate(test_dataset, verbose=2)\n",
        "print(\"Test_Accuracy: %.2f\" % (test_acc6*100))\n",
        "print(f'Test_Loss: {test_loss6}')"
      ],
      "metadata": {
        "colab": {
          "base_uri": "https://localhost:8080/"
        },
        "id": "ZF78O0v1Hs9z",
        "outputId": "a49a7c2e-57dc-47d8-c3de-2cc3e7b5b831"
      },
      "execution_count": null,
      "outputs": [
        {
          "output_type": "stream",
          "name": "stdout",
          "text": [
            "18/18 - 376s - loss: 3.3910 - accuracy: 0.0466 - 376s/epoch - 21s/step\n",
            "Val_Accuracy: 4.66\n",
            "Val_Loss: 3.3909695148468018\n",
            " \n",
            "20/20 - 422s - loss: 3.3931 - accuracy: 0.0460 - 422s/epoch - 21s/step\n",
            "Test_Accuracy: 4.60\n",
            "Test_Loss: 3.39311146736145\n"
          ]
        }
      ]
    },
    {
      "cell_type": "markdown",
      "source": [
        "## VGG19"
      ],
      "metadata": {
        "id": "ntZTXf7BIH5h"
      }
    },
    {
      "cell_type": "code",
      "source": [
        "val_loss7, val_acc7 = model_VGG19.evaluate(val_dataset, verbose=2)\n",
        "print(\"Val_Accuracy: %.2f\" % (val_acc7*100))\n",
        "print(f'Val_Loss: {val_loss7}')\n",
        "\n",
        "print(\" \")\n",
        "\n",
        "test_loss7, test_acc7 = model_VGG19.evaluate(test_dataset, verbose=2)\n",
        "print(\"Test_Accuracy: %.2f\" % (test_acc7*100))\n",
        "print(f'Test_Loss: {test_loss7}')"
      ],
      "metadata": {
        "colab": {
          "base_uri": "https://localhost:8080/"
        },
        "id": "E56XK5byIHaO",
        "outputId": "8bb89573-0d73-4225-bd84-e4afb1c3b836"
      },
      "execution_count": null,
      "outputs": [
        {
          "output_type": "stream",
          "name": "stdout",
          "text": [
            "18/18 - 469s - loss: 2.7320 - accuracy: 0.3280 - 469s/epoch - 26s/step\n",
            "Val_Accuracy: 32.80\n",
            "Val_Loss: 2.7320353984832764\n",
            " \n",
            "20/20 - 529s - loss: 2.0067 - accuracy: 0.4095 - 529s/epoch - 26s/step\n",
            "Test_Accuracy: 40.95\n",
            "Test_Loss: 2.006702423095703\n"
          ]
        }
      ]
    },
    {
      "cell_type": "markdown",
      "source": [
        "## Xception"
      ],
      "metadata": {
        "id": "dBxPO3lOIRmH"
      }
    },
    {
      "cell_type": "code",
      "source": [
        "val_loss8, val_acc8 = model_Xception.evaluate(val_dataset, verbose=2)\n",
        "print(\"Val_Accuracy: %.2f\" % (val_acc8*100))\n",
        "print(f'Val_Loss: {val_loss8}')\n",
        "\n",
        "print(\" \")\n",
        "\n",
        "test_loss8, test_acc8 = model_Xception.evaluate(test_dataset, verbose=2)\n",
        "print(\"Test_Accuracy: %.2f\" % (test_acc8*100))\n",
        "print(f'Test_Loss: {test_loss8}')"
      ],
      "metadata": {
        "colab": {
          "base_uri": "https://localhost:8080/"
        },
        "id": "DvD3dTLoITXN",
        "outputId": "35d87a2a-c35b-4039-8ce2-e16c2c2f4616"
      },
      "execution_count": null,
      "outputs": [
        {
          "output_type": "stream",
          "name": "stdout",
          "text": [
            "18/18 - 196s - loss: 1.2235 - accuracy: 0.7473 - 196s/epoch - 11s/step\n",
            "Val_Accuracy: 74.73\n",
            "Val_Loss: 1.2235357761383057\n",
            " \n",
            "20/20 - 222s - loss: 0.9301 - accuracy: 0.7825 - 222s/epoch - 11s/step\n",
            "Test_Accuracy: 78.25\n",
            "Test_Loss: 0.9301116466522217\n"
          ]
        }
      ]
    }
  ]
}